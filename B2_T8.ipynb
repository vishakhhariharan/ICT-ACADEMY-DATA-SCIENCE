{
 "cells": [
  {
   "cell_type": "code",
   "execution_count": 1,
   "id": "140f283d",
   "metadata": {},
   "outputs": [],
   "source": [
    "#import library\n",
    "import numpy as np\n",
    "import pandas as pd\n",
    "import seaborn as sns\n",
    "import matplotlib.pyplot as plt\n",
    "import warnings\n",
    "warnings.filterwarnings('ignore')"
   ]
  },
  {
   "cell_type": "code",
   "execution_count": 2,
   "id": "2865171c",
   "metadata": {},
   "outputs": [],
   "source": [
    "data=pd.read_csv('Car details v3.csv')"
   ]
  },
  {
   "cell_type": "code",
   "execution_count": 3,
   "id": "6b4464e0",
   "metadata": {},
   "outputs": [
    {
     "data": {
      "text/html": [
       "<div>\n",
       "<style scoped>\n",
       "    .dataframe tbody tr th:only-of-type {\n",
       "        vertical-align: middle;\n",
       "    }\n",
       "\n",
       "    .dataframe tbody tr th {\n",
       "        vertical-align: top;\n",
       "    }\n",
       "\n",
       "    .dataframe thead th {\n",
       "        text-align: right;\n",
       "    }\n",
       "</style>\n",
       "<table border=\"1\" class=\"dataframe\">\n",
       "  <thead>\n",
       "    <tr style=\"text-align: right;\">\n",
       "      <th></th>\n",
       "      <th>name</th>\n",
       "      <th>year</th>\n",
       "      <th>selling_price</th>\n",
       "      <th>km_driven</th>\n",
       "      <th>fuel</th>\n",
       "      <th>seller_type</th>\n",
       "      <th>transmission</th>\n",
       "      <th>owner</th>\n",
       "      <th>mileage</th>\n",
       "      <th>engine</th>\n",
       "      <th>max_power</th>\n",
       "      <th>torque</th>\n",
       "      <th>seats</th>\n",
       "    </tr>\n",
       "  </thead>\n",
       "  <tbody>\n",
       "    <tr>\n",
       "      <th>0</th>\n",
       "      <td>Maruti Swift Dzire VDI</td>\n",
       "      <td>2014</td>\n",
       "      <td>450000</td>\n",
       "      <td>145500</td>\n",
       "      <td>Diesel</td>\n",
       "      <td>Individual</td>\n",
       "      <td>Manual</td>\n",
       "      <td>First Owner</td>\n",
       "      <td>23.4 kmpl</td>\n",
       "      <td>1248 CC</td>\n",
       "      <td>74 bhp</td>\n",
       "      <td>190Nm@ 2000rpm</td>\n",
       "      <td>5.0</td>\n",
       "    </tr>\n",
       "    <tr>\n",
       "      <th>1</th>\n",
       "      <td>Skoda Rapid 1.5 TDI Ambition</td>\n",
       "      <td>2014</td>\n",
       "      <td>370000</td>\n",
       "      <td>120000</td>\n",
       "      <td>Diesel</td>\n",
       "      <td>Individual</td>\n",
       "      <td>Manual</td>\n",
       "      <td>Second Owner</td>\n",
       "      <td>21.14 kmpl</td>\n",
       "      <td>1498 CC</td>\n",
       "      <td>103.52 bhp</td>\n",
       "      <td>250Nm@ 1500-2500rpm</td>\n",
       "      <td>5.0</td>\n",
       "    </tr>\n",
       "    <tr>\n",
       "      <th>2</th>\n",
       "      <td>Honda City 2017-2020 EXi</td>\n",
       "      <td>2006</td>\n",
       "      <td>158000</td>\n",
       "      <td>140000</td>\n",
       "      <td>Petrol</td>\n",
       "      <td>Individual</td>\n",
       "      <td>Manual</td>\n",
       "      <td>Third Owner</td>\n",
       "      <td>17.7 kmpl</td>\n",
       "      <td>1497 CC</td>\n",
       "      <td>78 bhp</td>\n",
       "      <td>12.7@ 2,700(kgm@ rpm)</td>\n",
       "      <td>5.0</td>\n",
       "    </tr>\n",
       "    <tr>\n",
       "      <th>3</th>\n",
       "      <td>Hyundai i20 Sportz Diesel</td>\n",
       "      <td>2010</td>\n",
       "      <td>225000</td>\n",
       "      <td>127000</td>\n",
       "      <td>Diesel</td>\n",
       "      <td>Individual</td>\n",
       "      <td>Manual</td>\n",
       "      <td>First Owner</td>\n",
       "      <td>23.0 kmpl</td>\n",
       "      <td>1396 CC</td>\n",
       "      <td>90 bhp</td>\n",
       "      <td>22.4 kgm at 1750-2750rpm</td>\n",
       "      <td>5.0</td>\n",
       "    </tr>\n",
       "    <tr>\n",
       "      <th>4</th>\n",
       "      <td>Maruti Swift VXI BSIII</td>\n",
       "      <td>2007</td>\n",
       "      <td>130000</td>\n",
       "      <td>120000</td>\n",
       "      <td>Petrol</td>\n",
       "      <td>Individual</td>\n",
       "      <td>Manual</td>\n",
       "      <td>First Owner</td>\n",
       "      <td>16.1 kmpl</td>\n",
       "      <td>1298 CC</td>\n",
       "      <td>88.2 bhp</td>\n",
       "      <td>11.5@ 4,500(kgm@ rpm)</td>\n",
       "      <td>5.0</td>\n",
       "    </tr>\n",
       "  </tbody>\n",
       "</table>\n",
       "</div>"
      ],
      "text/plain": [
       "                           name  year  selling_price  km_driven    fuel  \\\n",
       "0        Maruti Swift Dzire VDI  2014         450000     145500  Diesel   \n",
       "1  Skoda Rapid 1.5 TDI Ambition  2014         370000     120000  Diesel   \n",
       "2      Honda City 2017-2020 EXi  2006         158000     140000  Petrol   \n",
       "3     Hyundai i20 Sportz Diesel  2010         225000     127000  Diesel   \n",
       "4        Maruti Swift VXI BSIII  2007         130000     120000  Petrol   \n",
       "\n",
       "  seller_type transmission         owner     mileage   engine   max_power  \\\n",
       "0  Individual       Manual   First Owner   23.4 kmpl  1248 CC      74 bhp   \n",
       "1  Individual       Manual  Second Owner  21.14 kmpl  1498 CC  103.52 bhp   \n",
       "2  Individual       Manual   Third Owner   17.7 kmpl  1497 CC      78 bhp   \n",
       "3  Individual       Manual   First Owner   23.0 kmpl  1396 CC      90 bhp   \n",
       "4  Individual       Manual   First Owner   16.1 kmpl  1298 CC    88.2 bhp   \n",
       "\n",
       "                     torque  seats  \n",
       "0            190Nm@ 2000rpm    5.0  \n",
       "1       250Nm@ 1500-2500rpm    5.0  \n",
       "2     12.7@ 2,700(kgm@ rpm)    5.0  \n",
       "3  22.4 kgm at 1750-2750rpm    5.0  \n",
       "4     11.5@ 4,500(kgm@ rpm)    5.0  "
      ]
     },
     "execution_count": 3,
     "metadata": {},
     "output_type": "execute_result"
    }
   ],
   "source": [
    "#head data\n",
    "data.head()"
   ]
  },
  {
   "cell_type": "code",
   "execution_count": 4,
   "id": "76e28ecc",
   "metadata": {},
   "outputs": [
    {
     "data": {
      "text/html": [
       "<div>\n",
       "<style scoped>\n",
       "    .dataframe tbody tr th:only-of-type {\n",
       "        vertical-align: middle;\n",
       "    }\n",
       "\n",
       "    .dataframe tbody tr th {\n",
       "        vertical-align: top;\n",
       "    }\n",
       "\n",
       "    .dataframe thead th {\n",
       "        text-align: right;\n",
       "    }\n",
       "</style>\n",
       "<table border=\"1\" class=\"dataframe\">\n",
       "  <thead>\n",
       "    <tr style=\"text-align: right;\">\n",
       "      <th></th>\n",
       "      <th>name</th>\n",
       "      <th>year</th>\n",
       "      <th>selling_price</th>\n",
       "      <th>km_driven</th>\n",
       "      <th>fuel</th>\n",
       "      <th>seller_type</th>\n",
       "      <th>transmission</th>\n",
       "      <th>owner</th>\n",
       "      <th>mileage</th>\n",
       "      <th>engine</th>\n",
       "      <th>max_power</th>\n",
       "      <th>torque</th>\n",
       "      <th>seats</th>\n",
       "    </tr>\n",
       "  </thead>\n",
       "  <tbody>\n",
       "    <tr>\n",
       "      <th>8123</th>\n",
       "      <td>Hyundai i20 Magna</td>\n",
       "      <td>2013</td>\n",
       "      <td>320000</td>\n",
       "      <td>110000</td>\n",
       "      <td>Petrol</td>\n",
       "      <td>Individual</td>\n",
       "      <td>Manual</td>\n",
       "      <td>First Owner</td>\n",
       "      <td>18.5 kmpl</td>\n",
       "      <td>1197 CC</td>\n",
       "      <td>82.85 bhp</td>\n",
       "      <td>113.7Nm@ 4000rpm</td>\n",
       "      <td>5.0</td>\n",
       "    </tr>\n",
       "    <tr>\n",
       "      <th>8124</th>\n",
       "      <td>Hyundai Verna CRDi SX</td>\n",
       "      <td>2007</td>\n",
       "      <td>135000</td>\n",
       "      <td>119000</td>\n",
       "      <td>Diesel</td>\n",
       "      <td>Individual</td>\n",
       "      <td>Manual</td>\n",
       "      <td>Fourth &amp; Above Owner</td>\n",
       "      <td>16.8 kmpl</td>\n",
       "      <td>1493 CC</td>\n",
       "      <td>110 bhp</td>\n",
       "      <td>24@ 1,900-2,750(kgm@ rpm)</td>\n",
       "      <td>5.0</td>\n",
       "    </tr>\n",
       "    <tr>\n",
       "      <th>8125</th>\n",
       "      <td>Maruti Swift Dzire ZDi</td>\n",
       "      <td>2009</td>\n",
       "      <td>382000</td>\n",
       "      <td>120000</td>\n",
       "      <td>Diesel</td>\n",
       "      <td>Individual</td>\n",
       "      <td>Manual</td>\n",
       "      <td>First Owner</td>\n",
       "      <td>19.3 kmpl</td>\n",
       "      <td>1248 CC</td>\n",
       "      <td>73.9 bhp</td>\n",
       "      <td>190Nm@ 2000rpm</td>\n",
       "      <td>5.0</td>\n",
       "    </tr>\n",
       "    <tr>\n",
       "      <th>8126</th>\n",
       "      <td>Tata Indigo CR4</td>\n",
       "      <td>2013</td>\n",
       "      <td>290000</td>\n",
       "      <td>25000</td>\n",
       "      <td>Diesel</td>\n",
       "      <td>Individual</td>\n",
       "      <td>Manual</td>\n",
       "      <td>First Owner</td>\n",
       "      <td>23.57 kmpl</td>\n",
       "      <td>1396 CC</td>\n",
       "      <td>70 bhp</td>\n",
       "      <td>140Nm@ 1800-3000rpm</td>\n",
       "      <td>5.0</td>\n",
       "    </tr>\n",
       "    <tr>\n",
       "      <th>8127</th>\n",
       "      <td>Tata Indigo CR4</td>\n",
       "      <td>2013</td>\n",
       "      <td>290000</td>\n",
       "      <td>25000</td>\n",
       "      <td>Diesel</td>\n",
       "      <td>Individual</td>\n",
       "      <td>Manual</td>\n",
       "      <td>First Owner</td>\n",
       "      <td>23.57 kmpl</td>\n",
       "      <td>1396 CC</td>\n",
       "      <td>70 bhp</td>\n",
       "      <td>140Nm@ 1800-3000rpm</td>\n",
       "      <td>5.0</td>\n",
       "    </tr>\n",
       "  </tbody>\n",
       "</table>\n",
       "</div>"
      ],
      "text/plain": [
       "                        name  year  selling_price  km_driven    fuel  \\\n",
       "8123       Hyundai i20 Magna  2013         320000     110000  Petrol   \n",
       "8124   Hyundai Verna CRDi SX  2007         135000     119000  Diesel   \n",
       "8125  Maruti Swift Dzire ZDi  2009         382000     120000  Diesel   \n",
       "8126         Tata Indigo CR4  2013         290000      25000  Diesel   \n",
       "8127         Tata Indigo CR4  2013         290000      25000  Diesel   \n",
       "\n",
       "     seller_type transmission                 owner     mileage   engine  \\\n",
       "8123  Individual       Manual           First Owner   18.5 kmpl  1197 CC   \n",
       "8124  Individual       Manual  Fourth & Above Owner   16.8 kmpl  1493 CC   \n",
       "8125  Individual       Manual           First Owner   19.3 kmpl  1248 CC   \n",
       "8126  Individual       Manual           First Owner  23.57 kmpl  1396 CC   \n",
       "8127  Individual       Manual           First Owner  23.57 kmpl  1396 CC   \n",
       "\n",
       "      max_power                     torque  seats  \n",
       "8123  82.85 bhp           113.7Nm@ 4000rpm    5.0  \n",
       "8124    110 bhp  24@ 1,900-2,750(kgm@ rpm)    5.0  \n",
       "8125   73.9 bhp             190Nm@ 2000rpm    5.0  \n",
       "8126     70 bhp        140Nm@ 1800-3000rpm    5.0  \n",
       "8127     70 bhp        140Nm@ 1800-3000rpm    5.0  "
      ]
     },
     "execution_count": 4,
     "metadata": {},
     "output_type": "execute_result"
    }
   ],
   "source": [
    "#tail of the data\n",
    "data.tail()"
   ]
  },
  {
   "cell_type": "code",
   "execution_count": 5,
   "id": "bd4e70b2",
   "metadata": {},
   "outputs": [
    {
     "data": {
      "text/plain": [
       "(8128, 13)"
      ]
     },
     "execution_count": 5,
     "metadata": {},
     "output_type": "execute_result"
    }
   ],
   "source": [
    "#shape of the data\n",
    "data.shape"
   ]
  },
  {
   "cell_type": "markdown",
   "id": "e4152d49",
   "metadata": {},
   "source": [
    "# PREPROCESSING"
   ]
  },
  {
   "cell_type": "code",
   "execution_count": null,
   "id": "631a982a",
   "metadata": {},
   "outputs": [],
   "source": []
  },
  {
   "cell_type": "markdown",
   "id": "40a949ff",
   "metadata": {},
   "source": [
    "### Handle null values"
   ]
  },
  {
   "cell_type": "code",
   "execution_count": 6,
   "id": "00692fce",
   "metadata": {
    "scrolled": true
   },
   "outputs": [
    {
     "data": {
      "text/plain": [
       "name               0\n",
       "year               0\n",
       "selling_price      0\n",
       "km_driven          0\n",
       "fuel               0\n",
       "seller_type        0\n",
       "transmission       0\n",
       "owner              0\n",
       "mileage          221\n",
       "engine           221\n",
       "max_power        215\n",
       "torque           222\n",
       "seats            221\n",
       "dtype: int64"
      ]
     },
     "execution_count": 6,
     "metadata": {},
     "output_type": "execute_result"
    }
   ],
   "source": [
    "#finding the null values\n",
    "data.isnull().sum()"
   ]
  },
  {
   "cell_type": "code",
   "execution_count": 7,
   "id": "16b73b5a",
   "metadata": {},
   "outputs": [
    {
     "data": {
      "text/plain": [
       "<AxesSubplot:>"
      ]
     },
     "execution_count": 7,
     "metadata": {},
     "output_type": "execute_result"
    },
    {
     "data": {
      "image/png": "[encoded data removed]",
      "text/plain": [
       "<Figure size 1440x720 with 2 Axes>"
      ]
     },
     "metadata": {
      "needs_background": "light"
     },
     "output_type": "display_data"
    }
   ],
   "source": [
    "sd=data.isnull()\n",
    "plt.figure(figsize=(20,10))\n",
    "sns.heatmap(sd,cmap='cubehelix')"
   ]
  },
  {
   "cell_type": "markdown",
   "id": "e0da223f",
   "metadata": {},
   "source": [
    "**we can see that there are null values in mileage,engine,max_power,torque,seats, so we need to handle those null values**"
   ]
  },
  {
   "cell_type": "code",
   "execution_count": 8,
   "id": "9afe4adf",
   "metadata": {},
   "outputs": [],
   "source": [
    "#split the data \n",
    "data[['mileage_', 'mil_unit']] = data['mileage'].str.split(' ', 1, expand=True)\n",
    "data.drop(['mil_unit', 'mileage'],axis=1,inplace=True)\n",
    "data['mileage_']=data['mileage_'].astype('float')\n",
    "#fill the missing values\n",
    "data['mileage_']=data['mileage_'].fillna(data['mileage_'].mean())"
   ]
  },
  {
   "cell_type": "code",
   "execution_count": 9,
   "id": "09247758",
   "metadata": {},
   "outputs": [],
   "source": [
    "#split the data \n",
    "data[['engine_','engine_unit']] = data['engine'].str.split(' ', 1, expand=True)\n",
    "data.drop(['engine_unit', 'engine'],axis=1,inplace=True)\n",
    "data['engine_']=data['engine_'].astype('float')\n",
    "#fill the missing values with mean\n",
    "data['engine_']=data['engine_'].fillna(data['engine_'].mean())"
   ]
  },
  {
   "cell_type": "code",
   "execution_count": 10,
   "id": "b0dde63d",
   "metadata": {},
   "outputs": [],
   "source": [
    "#fill null values with mode\n",
    "data[['max_power_number', 'max_power_unit']] = data['max_power'].str.split(' ', 1, expand=True)\n",
    "data.drop(['max_power_unit', 'max_power'],axis=1,inplace=True)\n",
    "\n",
    "data['max_power_number'].replace({'': 0}, inplace=True)\n",
    "\n",
    "data['max_power_number'] = data['max_power_number'].fillna(data['max_power_number'].mode()[0])\n",
    "\n",
    "data['max_power_number']=data['max_power_number'].astype('float')"
   ]
  },
  {
   "cell_type": "code",
   "execution_count": 11,
   "id": "44e97e38",
   "metadata": {},
   "outputs": [],
   "source": [
    "#torque feature\n",
    "data[['torque', 'torque_remainder']] = data['torque'].str.split('@', 1, expand=True)\n",
    "data.drop(['torque_remainder'],axis=1,inplace=True)\n",
    "data['torque']= data['torque'].str.extract('(^\\d*)')\n",
    "data['torque']= data['torque'].fillna(150)\n",
    "data['torque']=data['torque'].astype('int')\n",
    "#kgm convert to Nm\n",
    "data['torque'] = data['torque'].apply(lambda x: 9.8*x if x <= 50 else x)"
   ]
  },
  {
   "cell_type": "code",
   "execution_count": 12,
   "id": "d6113826",
   "metadata": {},
   "outputs": [],
   "source": [
    "#fill null values with mean\n",
    "data['seats']=data['seats'].fillna(data['seats'].mean())"
   ]
  },
  {
   "cell_type": "code",
   "execution_count": 13,
   "id": "a5f9c93d",
   "metadata": {},
   "outputs": [],
   "source": [
    "#dropping name feature\n",
    "data.drop(['name'], axis=1, inplace=True)"
   ]
  },
  {
   "cell_type": "code",
   "execution_count": 14,
   "id": "7a283efa",
   "metadata": {},
   "outputs": [
    {
     "name": "stdout",
     "output_type": "stream",
     "text": [
      "Categorical features: ['fuel', 'seller_type', 'transmission', 'owner'] \n",
      "\n",
      "Numerical features: ['year', 'selling_price', 'km_driven', 'torque', 'seats', 'mileage_', 'engine_', 'max_power_number']\n"
     ]
    }
   ],
   "source": [
    "#Get categorical and numerical columns\n",
    "categorical_cols=[cname for cname in data.columns if data[cname].dtypes=='object']\n",
    "numerical_cols=[cname for cname in data.columns if data[cname].dtypes!='object']\n",
    "print('Categorical features:',categorical_cols,'\\n')\n",
    "print('Numerical features:',numerical_cols)"
   ]
  },
  {
   "cell_type": "code",
   "execution_count": 15,
   "id": "30abb891",
   "metadata": {},
   "outputs": [
    {
     "data": {
      "text/plain": [
       "<AxesSubplot:>"
      ]
     },
     "execution_count": 15,
     "metadata": {},
     "output_type": "execute_result"
    },
    {
     "data": {
      "image/png": "[encoded data removed]",
      "text/plain": [
       "<Figure size 720x576 with 2 Axes>"
      ]
     },
     "metadata": {
      "needs_background": "light"
     },
     "output_type": "display_data"
    }
   ],
   "source": [
    "sd=data.isnull()\n",
    "plt.figure(figsize=(10,8))\n",
    "sns.heatmap(sd,cmap='cubehelix')"
   ]
  },
  {
   "cell_type": "markdown",
   "id": "1df76634",
   "metadata": {},
   "source": [
    "**Hence the null values has been removed**"
   ]
  },
  {
   "cell_type": "code",
   "execution_count": 16,
   "id": "e34e72f2",
   "metadata": {},
   "outputs": [
    {
     "data": {
      "text/plain": [
       "(8128, 12)"
      ]
     },
     "execution_count": 16,
     "metadata": {},
     "output_type": "execute_result"
    }
   ],
   "source": [
    "data.shape"
   ]
  },
  {
   "cell_type": "markdown",
   "id": "16a3b22c",
   "metadata": {},
   "source": [
    "### Handle the outliers"
   ]
  },
  {
   "cell_type": "code",
   "execution_count": 17,
   "id": "b8c0ca09",
   "metadata": {
    "scrolled": false
   },
   "outputs": [
    {
     "data": {
      "image/png": "[encoded data removed]",
      "text/plain": [
       "<Figure size 432x288 with 1 Axes>"
      ]
     },
     "metadata": {
      "needs_background": "light"
     },
     "output_type": "display_data"
    },
    {
     "data": {
      "image/png": "[encoded data removed]",
      "text/plain": [
       "<Figure size 720x720 with 1 Axes>"
      ]
     },
     "metadata": {
      "needs_background": "light"
     },
     "output_type": "display_data"
    },
    {
     "data": {
      "image/png": "[encoded data removed]",
      "text/plain": [
       "<Figure size 720x720 with 1 Axes>"
      ]
     },
     "metadata": {
      "needs_background": "light"
     },
     "output_type": "display_data"
    },
    {
     "data": {
      "image/png": "[encoded data removed]",
      "text/plain": [
       "<Figure size 720x720 with 1 Axes>"
      ]
     },
     "metadata": {
      "needs_background": "light"
     },
     "output_type": "display_data"
    },
    {
     "data": {
      "image/png": "[encoded data removed]",
      "text/plain": [
       "<Figure size 720x720 with 1 Axes>"
      ]
     },
     "metadata": {
      "needs_background": "light"
     },
     "output_type": "display_data"
    },
    {
     "data": {
      "image/png": "[encoded data removed]",
      "text/plain": [
       "<Figure size 720x720 with 1 Axes>"
      ]
     },
     "metadata": {
      "needs_background": "light"
     },
     "output_type": "display_data"
    },
    {
     "data": {
      "image/png": "[encoded data removed]",
      "text/plain": [
       "<Figure size 720x720 with 1 Axes>"
      ]
     },
     "metadata": {
      "needs_background": "light"
     },
     "output_type": "display_data"
    },
    {
     "data": {
      "image/png": "[encoded data removed]",
      "text/plain": [
       "<Figure size 720x720 with 1 Axes>"
      ]
     },
     "metadata": {
      "needs_background": "light"
     },
     "output_type": "display_data"
    },
    {
     "data": {
      "text/plain": [
       "<Figure size 720x720 with 0 Axes>"
      ]
     },
     "metadata": {},
     "output_type": "display_data"
    }
   ],
   "source": [
    "for feature in numerical_cols:\n",
    "    sns.boxplot(data[feature])\n",
    "    plt.title(feature)\n",
    "    plt.figure(figsize=(10,10))"
   ]
  },
  {
   "cell_type": "markdown",
   "id": "da254442",
   "metadata": {},
   "source": [
    "we can see that there are outliers so we will handle them"
   ]
  },
  {
   "cell_type": "code",
   "execution_count": 18,
   "id": "75e391f0",
   "metadata": {},
   "outputs": [
    {
     "name": "stdout",
     "output_type": "stream",
     "text": [
      "2002.0 2026.0\n"
     ]
    }
   ],
   "source": [
    "#Handling outliers in year\n",
    "IQR=data.year.quantile(0.75)-data.year.quantile(0.25)\n",
    "lower_limit=data.year.quantile(0.25)-(IQR*1.5)\n",
    "upper_limit=data.year.quantile(0.75)+(IQR*1.5)\n",
    "print(lower_limit, upper_limit)"
   ]
  },
  {
   "cell_type": "code",
   "execution_count": 19,
   "id": "074baf18",
   "metadata": {},
   "outputs": [],
   "source": [
    "data[\"year\"] = np.where(data[\"year\"] <2002.0, 2002.0,data['year'])\n",
    "data[\"year\"] = np.where(data[\"year\"] >2026.0, 2026.0,data['year'])"
   ]
  },
  {
   "cell_type": "code",
   "execution_count": 20,
   "id": "b46a4500",
   "metadata": {},
   "outputs": [
    {
     "name": "stdout",
     "output_type": "stream",
     "text": [
      "-375002.5 1305001.5\n"
     ]
    }
   ],
   "source": [
    "#handle outlier in selling price\n",
    "IQR=data.selling_price.quantile(0.75)-data.selling_price.quantile(0.25)\n",
    "lower_limit=data.selling_price.quantile(0.25)-(IQR*1.5)\n",
    "upper_limit=data.selling_price.quantile(0.75)+(IQR*1.5)\n",
    "print(lower_limit, upper_limit)"
   ]
  },
  {
   "cell_type": "code",
   "execution_count": 21,
   "id": "dbd4abca",
   "metadata": {},
   "outputs": [],
   "source": [
    "data[\"selling_price\"] = np.where(data[\"selling_price\"] <-375002.5, -375002.5,data['selling_price'])\n",
    "data[\"selling_price\"] = np.where(data[\"selling_price\"] >1305001.5, 1305001.5,data['selling_price'])"
   ]
  },
  {
   "cell_type": "code",
   "execution_count": 22,
   "id": "ec3839af",
   "metadata": {},
   "outputs": [
    {
     "name": "stdout",
     "output_type": "stream",
     "text": [
      "-59500.0 192500.0\n"
     ]
    }
   ],
   "source": [
    "#Handling outliers in 'km_driven'\n",
    "IQR=data.km_driven.quantile(0.75)-data.km_driven.quantile(0.25)\n",
    "lower_limit=data.km_driven.quantile(0.25)-(IQR*1.5)\n",
    "upper_limit=data.km_driven.quantile(0.75)+(IQR*1.5)\n",
    "print(lower_limit, upper_limit)"
   ]
  },
  {
   "cell_type": "code",
   "execution_count": 23,
   "id": "a2fb7c20",
   "metadata": {},
   "outputs": [],
   "source": [
    "data.loc[data['km_driven']<=-59500.0,'km_driven']=-59500.0\n",
    "data.loc[data['km_driven']>=192500.0,'km_driven']=192500.0"
   ]
  },
  {
   "cell_type": "code",
   "execution_count": 24,
   "id": "52156e06",
   "metadata": {},
   "outputs": [
    {
     "name": "stdout",
     "output_type": "stream",
     "text": [
      "-27.5 344.5\n"
     ]
    }
   ],
   "source": [
    "#Handling outliers in 'torque'\n",
    "IQR=data.torque.quantile(0.75)-data.torque.quantile(0.25)\n",
    "lower_limit=data.torque.quantile(0.25)-(IQR*1.5)\n",
    "upper_limit=data.torque.quantile(0.75)+(IQR*1.5)\n",
    "print(lower_limit, upper_limit)"
   ]
  },
  {
   "cell_type": "code",
   "execution_count": 25,
   "id": "5242080f",
   "metadata": {},
   "outputs": [],
   "source": [
    "data.loc[data['torque']<=-27.5,'torque']=-27.5\n",
    "data.loc[data['torque']>=344.5,'torque']=344.5"
   ]
  },
  {
   "cell_type": "code",
   "execution_count": 26,
   "id": "6e08f26f",
   "metadata": {},
   "outputs": [
    {
     "name": "stdout",
     "output_type": "stream",
     "text": [
      "8.583750000000002 30.49375\n"
     ]
    }
   ],
   "source": [
    "#Handling outliers in 'mileage_'\n",
    "IQR=data.mileage_.quantile(0.75)-data.mileage_.quantile(0.25)\n",
    "lower_limit=data.mileage_.quantile(0.25)-(IQR*1.5)\n",
    "upper_limit=data.mileage_.quantile(0.75)+(IQR*1.5)\n",
    "print(lower_limit, upper_limit)"
   ]
  },
  {
   "cell_type": "code",
   "execution_count": 27,
   "id": "2464ae5b",
   "metadata": {},
   "outputs": [],
   "source": [
    "data.loc[data['mileage_']<=8.58,'mileage_']=8.58\n",
    "data.loc[data['mileage_']>=30.49,'mileage_']=30.49"
   ]
  },
  {
   "cell_type": "code",
   "execution_count": 28,
   "id": "5f329d5b",
   "metadata": {},
   "outputs": [
    {
     "name": "stdout",
     "output_type": "stream",
     "text": [
      "619.5 2159.5\n"
     ]
    }
   ],
   "source": [
    "#Handling outliers in 'engine_'\n",
    "IQR=data.engine_.quantile(0.75)-data.engine_.quantile(0.25)\n",
    "lower_limit=data.engine_.quantile(0.25)-(IQR*1.5)\n",
    "upper_limit=data.engine_.quantile(0.75)+(IQR*1.5)\n",
    "print(lower_limit, upper_limit)"
   ]
  },
  {
   "cell_type": "code",
   "execution_count": 29,
   "id": "0f6776fd",
   "metadata": {},
   "outputs": [],
   "source": [
    "data.loc[data['engine_']<=619.5,'engine_']=619.5\n",
    "data.loc[data['engine_']>=2159.5,'engine_']=2159.5"
   ]
  },
  {
   "cell_type": "code",
   "execution_count": 30,
   "id": "be2614fb",
   "metadata": {},
   "outputs": [
    {
     "name": "stdout",
     "output_type": "stream",
     "text": [
      "18.374999999999986 150.97500000000002\n"
     ]
    }
   ],
   "source": [
    "#Handling outliers in 'max_power_number'\n",
    "IQR=data.max_power_number.quantile(0.75)-data.max_power_number.quantile(0.25)\n",
    "lower_limit=data.max_power_number.quantile(0.25)-(IQR*1.5)\n",
    "upper_limit=data.max_power_number.quantile(0.75)+(IQR*1.5)\n",
    "print(lower_limit, upper_limit)"
   ]
  },
  {
   "cell_type": "code",
   "execution_count": 31,
   "id": "88d80670",
   "metadata": {},
   "outputs": [],
   "source": [
    "data.loc[data['max_power_number']<=18.37,'max_power_number']=18.37\n",
    "data.loc[data['max_power_number']>=150.97,'max_power_number']=150.97"
   ]
  },
  {
   "cell_type": "markdown",
   "id": "3583afe1",
   "metadata": {},
   "source": [
    "### Encoding"
   ]
  },
  {
   "cell_type": "code",
   "execution_count": 32,
   "id": "f1d7227d",
   "metadata": {},
   "outputs": [
    {
     "name": "stdout",
     "output_type": "stream",
     "text": [
      "['fuel', 'seller_type', 'transmission', 'owner']\n"
     ]
    }
   ],
   "source": [
    "categorical_cols=[cname for cname in data.columns if data[cname].dtypes=='object']\n",
    "print(categorical_cols)"
   ]
  },
  {
   "cell_type": "code",
   "execution_count": 33,
   "id": "c2010f46",
   "metadata": {},
   "outputs": [
    {
     "data": {
      "text/html": [
       "<div>\n",
       "<style scoped>\n",
       "    .dataframe tbody tr th:only-of-type {\n",
       "        vertical-align: middle;\n",
       "    }\n",
       "\n",
       "    .dataframe tbody tr th {\n",
       "        vertical-align: top;\n",
       "    }\n",
       "\n",
       "    .dataframe thead th {\n",
       "        text-align: right;\n",
       "    }\n",
       "</style>\n",
       "<table border=\"1\" class=\"dataframe\">\n",
       "  <thead>\n",
       "    <tr style=\"text-align: right;\">\n",
       "      <th></th>\n",
       "      <th>year</th>\n",
       "      <th>selling_price</th>\n",
       "      <th>km_driven</th>\n",
       "      <th>fuel</th>\n",
       "      <th>seller_type</th>\n",
       "      <th>transmission</th>\n",
       "      <th>owner</th>\n",
       "      <th>torque</th>\n",
       "      <th>seats</th>\n",
       "      <th>mileage_</th>\n",
       "      <th>...</th>\n",
       "      <th>fuel_Diesel</th>\n",
       "      <th>fuel_LPG</th>\n",
       "      <th>fuel_Petrol</th>\n",
       "      <th>seller_type_Individual</th>\n",
       "      <th>seller_type_Trustmark Dealer</th>\n",
       "      <th>transmission_Manual</th>\n",
       "      <th>owner_Fourth &amp; Above Owner</th>\n",
       "      <th>owner_Second Owner</th>\n",
       "      <th>owner_Test Drive Car</th>\n",
       "      <th>owner_Third Owner</th>\n",
       "    </tr>\n",
       "  </thead>\n",
       "  <tbody>\n",
       "    <tr>\n",
       "      <th>0</th>\n",
       "      <td>2014.0</td>\n",
       "      <td>450000.0</td>\n",
       "      <td>145500</td>\n",
       "      <td>Diesel</td>\n",
       "      <td>Individual</td>\n",
       "      <td>Manual</td>\n",
       "      <td>First Owner</td>\n",
       "      <td>190.0</td>\n",
       "      <td>5.0</td>\n",
       "      <td>23.40</td>\n",
       "      <td>...</td>\n",
       "      <td>1</td>\n",
       "      <td>0</td>\n",
       "      <td>0</td>\n",
       "      <td>1</td>\n",
       "      <td>0</td>\n",
       "      <td>1</td>\n",
       "      <td>0</td>\n",
       "      <td>0</td>\n",
       "      <td>0</td>\n",
       "      <td>0</td>\n",
       "    </tr>\n",
       "    <tr>\n",
       "      <th>1</th>\n",
       "      <td>2014.0</td>\n",
       "      <td>370000.0</td>\n",
       "      <td>120000</td>\n",
       "      <td>Diesel</td>\n",
       "      <td>Individual</td>\n",
       "      <td>Manual</td>\n",
       "      <td>Second Owner</td>\n",
       "      <td>250.0</td>\n",
       "      <td>5.0</td>\n",
       "      <td>21.14</td>\n",
       "      <td>...</td>\n",
       "      <td>1</td>\n",
       "      <td>0</td>\n",
       "      <td>0</td>\n",
       "      <td>1</td>\n",
       "      <td>0</td>\n",
       "      <td>1</td>\n",
       "      <td>0</td>\n",
       "      <td>1</td>\n",
       "      <td>0</td>\n",
       "      <td>0</td>\n",
       "    </tr>\n",
       "    <tr>\n",
       "      <th>2</th>\n",
       "      <td>2006.0</td>\n",
       "      <td>158000.0</td>\n",
       "      <td>140000</td>\n",
       "      <td>Petrol</td>\n",
       "      <td>Individual</td>\n",
       "      <td>Manual</td>\n",
       "      <td>Third Owner</td>\n",
       "      <td>117.6</td>\n",
       "      <td>5.0</td>\n",
       "      <td>17.70</td>\n",
       "      <td>...</td>\n",
       "      <td>0</td>\n",
       "      <td>0</td>\n",
       "      <td>1</td>\n",
       "      <td>1</td>\n",
       "      <td>0</td>\n",
       "      <td>1</td>\n",
       "      <td>0</td>\n",
       "      <td>0</td>\n",
       "      <td>0</td>\n",
       "      <td>1</td>\n",
       "    </tr>\n",
       "    <tr>\n",
       "      <th>3</th>\n",
       "      <td>2010.0</td>\n",
       "      <td>225000.0</td>\n",
       "      <td>127000</td>\n",
       "      <td>Diesel</td>\n",
       "      <td>Individual</td>\n",
       "      <td>Manual</td>\n",
       "      <td>First Owner</td>\n",
       "      <td>215.6</td>\n",
       "      <td>5.0</td>\n",
       "      <td>23.00</td>\n",
       "      <td>...</td>\n",
       "      <td>1</td>\n",
       "      <td>0</td>\n",
       "      <td>0</td>\n",
       "      <td>1</td>\n",
       "      <td>0</td>\n",
       "      <td>1</td>\n",
       "      <td>0</td>\n",
       "      <td>0</td>\n",
       "      <td>0</td>\n",
       "      <td>0</td>\n",
       "    </tr>\n",
       "    <tr>\n",
       "      <th>4</th>\n",
       "      <td>2007.0</td>\n",
       "      <td>130000.0</td>\n",
       "      <td>120000</td>\n",
       "      <td>Petrol</td>\n",
       "      <td>Individual</td>\n",
       "      <td>Manual</td>\n",
       "      <td>First Owner</td>\n",
       "      <td>107.8</td>\n",
       "      <td>5.0</td>\n",
       "      <td>16.10</td>\n",
       "      <td>...</td>\n",
       "      <td>0</td>\n",
       "      <td>0</td>\n",
       "      <td>1</td>\n",
       "      <td>1</td>\n",
       "      <td>0</td>\n",
       "      <td>1</td>\n",
       "      <td>0</td>\n",
       "      <td>0</td>\n",
       "      <td>0</td>\n",
       "      <td>0</td>\n",
       "    </tr>\n",
       "  </tbody>\n",
       "</table>\n",
       "<p>5 rows × 22 columns</p>\n",
       "</div>"
      ],
      "text/plain": [
       "     year  selling_price  km_driven    fuel seller_type transmission  \\\n",
       "0  2014.0       450000.0     145500  Diesel  Individual       Manual   \n",
       "1  2014.0       370000.0     120000  Diesel  Individual       Manual   \n",
       "2  2006.0       158000.0     140000  Petrol  Individual       Manual   \n",
       "3  2010.0       225000.0     127000  Diesel  Individual       Manual   \n",
       "4  2007.0       130000.0     120000  Petrol  Individual       Manual   \n",
       "\n",
       "          owner  torque  seats  mileage_  ...  fuel_Diesel  fuel_LPG  \\\n",
       "0   First Owner   190.0    5.0     23.40  ...            1         0   \n",
       "1  Second Owner   250.0    5.0     21.14  ...            1         0   \n",
       "2   Third Owner   117.6    5.0     17.70  ...            0         0   \n",
       "3   First Owner   215.6    5.0     23.00  ...            1         0   \n",
       "4   First Owner   107.8    5.0     16.10  ...            0         0   \n",
       "\n",
       "   fuel_Petrol  seller_type_Individual  seller_type_Trustmark Dealer  \\\n",
       "0            0                       1                             0   \n",
       "1            0                       1                             0   \n",
       "2            1                       1                             0   \n",
       "3            0                       1                             0   \n",
       "4            1                       1                             0   \n",
       "\n",
       "   transmission_Manual  owner_Fourth & Above Owner  owner_Second Owner  \\\n",
       "0                    1                           0                   0   \n",
       "1                    1                           0                   1   \n",
       "2                    1                           0                   0   \n",
       "3                    1                           0                   0   \n",
       "4                    1                           0                   0   \n",
       "\n",
       "   owner_Test Drive Car  owner_Third Owner  \n",
       "0                     0                  0  \n",
       "1                     0                  0  \n",
       "2                     0                  1  \n",
       "3                     0                  0  \n",
       "4                     0                  0  \n",
       "\n",
       "[5 rows x 22 columns]"
      ]
     },
     "execution_count": 33,
     "metadata": {},
     "output_type": "execute_result"
    }
   ],
   "source": [
    "#one hot encoding\n",
    "data1=data.copy(deep=True)\n",
    "data_encoded = pd.get_dummies(data[categorical_cols],drop_first=True)\n",
    "data1.drop(categorical_cols,axis=1,inplace=True)\n",
    "data1 = pd.concat([data,data_encoded],axis=1)\n",
    "\n",
    "data1.head()"
   ]
  },
  {
   "cell_type": "code",
   "execution_count": 34,
   "id": "ca9e9941",
   "metadata": {},
   "outputs": [
    {
     "data": {
      "text/plain": [
       "0       Diesel\n",
       "1       Diesel\n",
       "2       Petrol\n",
       "3       Diesel\n",
       "4       Petrol\n",
       "         ...  \n",
       "8123    Petrol\n",
       "8124    Diesel\n",
       "8125    Diesel\n",
       "8126    Diesel\n",
       "8127    Diesel\n",
       "Name: fuel, Length: 8128, dtype: object"
      ]
     },
     "execution_count": 34,
     "metadata": {},
     "output_type": "execute_result"
    }
   ],
   "source": [
    "data1['fuel']"
   ]
  },
  {
   "cell_type": "code",
   "execution_count": 35,
   "id": "1c835a7a",
   "metadata": {},
   "outputs": [],
   "source": [
    "data1=data1.drop(['fuel','seller_type','transmission','owner'],axis=1)"
   ]
  },
  {
   "cell_type": "markdown",
   "id": "dc90b8af",
   "metadata": {},
   "source": [
    "### feature reduction"
   ]
  },
  {
   "cell_type": "code",
   "execution_count": 36,
   "id": "df7755cf",
   "metadata": {},
   "outputs": [],
   "source": [
    "corrmatt = data1.corr(method = \"spearman\")"
   ]
  },
  {
   "cell_type": "code",
   "execution_count": 37,
   "id": "3d878a7e",
   "metadata": {},
   "outputs": [
    {
     "data": {
      "image/png": "[encoded data removed]",
      "text/plain": [
       "<Figure size 1080x720 with 2 Axes>"
      ]
     },
     "metadata": {
      "needs_background": "light"
     },
     "output_type": "display_data"
    }
   ],
   "source": [
    "#plot heat map\n",
    "plt.figure(figsize=(15,10))\n",
    "g=sns.heatmap(corrmatt,annot=True,cmap='cubehelix')"
   ]
  },
  {
   "cell_type": "code",
   "execution_count": 38,
   "id": "5f9786a0",
   "metadata": {},
   "outputs": [],
   "source": [
    "#finding the higher correlation value\n",
    "upper = corrmatt.where(np.triu(np.ones(corrmatt.shape), k=1).astype(np.bool))\n",
    "to_drop = [column for column in upper.columns if any(upper[column] > 0.95)]\n",
    "data1.drop(to_drop, axis=1, inplace=True)"
   ]
  },
  {
   "cell_type": "code",
   "execution_count": 39,
   "id": "15d081e7",
   "metadata": {},
   "outputs": [
    {
     "data": {
      "text/html": [
       "<div>\n",
       "<style scoped>\n",
       "    .dataframe tbody tr th:only-of-type {\n",
       "        vertical-align: middle;\n",
       "    }\n",
       "\n",
       "    .dataframe tbody tr th {\n",
       "        vertical-align: top;\n",
       "    }\n",
       "\n",
       "    .dataframe thead th {\n",
       "        text-align: right;\n",
       "    }\n",
       "</style>\n",
       "<table border=\"1\" class=\"dataframe\">\n",
       "  <thead>\n",
       "    <tr style=\"text-align: right;\">\n",
       "      <th></th>\n",
       "      <th>year</th>\n",
       "      <th>selling_price</th>\n",
       "      <th>km_driven</th>\n",
       "      <th>torque</th>\n",
       "      <th>seats</th>\n",
       "      <th>mileage_</th>\n",
       "      <th>engine_</th>\n",
       "      <th>max_power_number</th>\n",
       "      <th>fuel_Diesel</th>\n",
       "      <th>fuel_LPG</th>\n",
       "      <th>fuel_Petrol</th>\n",
       "      <th>seller_type_Individual</th>\n",
       "      <th>seller_type_Trustmark Dealer</th>\n",
       "      <th>transmission_Manual</th>\n",
       "      <th>owner_Fourth &amp; Above Owner</th>\n",
       "      <th>owner_Second Owner</th>\n",
       "      <th>owner_Test Drive Car</th>\n",
       "      <th>owner_Third Owner</th>\n",
       "    </tr>\n",
       "  </thead>\n",
       "  <tbody>\n",
       "    <tr>\n",
       "      <th>0</th>\n",
       "      <td>2014.0</td>\n",
       "      <td>450000.0</td>\n",
       "      <td>145500</td>\n",
       "      <td>190.0</td>\n",
       "      <td>5.0</td>\n",
       "      <td>23.40</td>\n",
       "      <td>1248.0</td>\n",
       "      <td>74.00</td>\n",
       "      <td>1</td>\n",
       "      <td>0</td>\n",
       "      <td>0</td>\n",
       "      <td>1</td>\n",
       "      <td>0</td>\n",
       "      <td>1</td>\n",
       "      <td>0</td>\n",
       "      <td>0</td>\n",
       "      <td>0</td>\n",
       "      <td>0</td>\n",
       "    </tr>\n",
       "    <tr>\n",
       "      <th>1</th>\n",
       "      <td>2014.0</td>\n",
       "      <td>370000.0</td>\n",
       "      <td>120000</td>\n",
       "      <td>250.0</td>\n",
       "      <td>5.0</td>\n",
       "      <td>21.14</td>\n",
       "      <td>1498.0</td>\n",
       "      <td>103.52</td>\n",
       "      <td>1</td>\n",
       "      <td>0</td>\n",
       "      <td>0</td>\n",
       "      <td>1</td>\n",
       "      <td>0</td>\n",
       "      <td>1</td>\n",
       "      <td>0</td>\n",
       "      <td>1</td>\n",
       "      <td>0</td>\n",
       "      <td>0</td>\n",
       "    </tr>\n",
       "    <tr>\n",
       "      <th>2</th>\n",
       "      <td>2006.0</td>\n",
       "      <td>158000.0</td>\n",
       "      <td>140000</td>\n",
       "      <td>117.6</td>\n",
       "      <td>5.0</td>\n",
       "      <td>17.70</td>\n",
       "      <td>1497.0</td>\n",
       "      <td>78.00</td>\n",
       "      <td>0</td>\n",
       "      <td>0</td>\n",
       "      <td>1</td>\n",
       "      <td>1</td>\n",
       "      <td>0</td>\n",
       "      <td>1</td>\n",
       "      <td>0</td>\n",
       "      <td>0</td>\n",
       "      <td>0</td>\n",
       "      <td>1</td>\n",
       "    </tr>\n",
       "    <tr>\n",
       "      <th>3</th>\n",
       "      <td>2010.0</td>\n",
       "      <td>225000.0</td>\n",
       "      <td>127000</td>\n",
       "      <td>215.6</td>\n",
       "      <td>5.0</td>\n",
       "      <td>23.00</td>\n",
       "      <td>1396.0</td>\n",
       "      <td>90.00</td>\n",
       "      <td>1</td>\n",
       "      <td>0</td>\n",
       "      <td>0</td>\n",
       "      <td>1</td>\n",
       "      <td>0</td>\n",
       "      <td>1</td>\n",
       "      <td>0</td>\n",
       "      <td>0</td>\n",
       "      <td>0</td>\n",
       "      <td>0</td>\n",
       "    </tr>\n",
       "    <tr>\n",
       "      <th>4</th>\n",
       "      <td>2007.0</td>\n",
       "      <td>130000.0</td>\n",
       "      <td>120000</td>\n",
       "      <td>107.8</td>\n",
       "      <td>5.0</td>\n",
       "      <td>16.10</td>\n",
       "      <td>1298.0</td>\n",
       "      <td>88.20</td>\n",
       "      <td>0</td>\n",
       "      <td>0</td>\n",
       "      <td>1</td>\n",
       "      <td>1</td>\n",
       "      <td>0</td>\n",
       "      <td>1</td>\n",
       "      <td>0</td>\n",
       "      <td>0</td>\n",
       "      <td>0</td>\n",
       "      <td>0</td>\n",
       "    </tr>\n",
       "    <tr>\n",
       "      <th>...</th>\n",
       "      <td>...</td>\n",
       "      <td>...</td>\n",
       "      <td>...</td>\n",
       "      <td>...</td>\n",
       "      <td>...</td>\n",
       "      <td>...</td>\n",
       "      <td>...</td>\n",
       "      <td>...</td>\n",
       "      <td>...</td>\n",
       "      <td>...</td>\n",
       "      <td>...</td>\n",
       "      <td>...</td>\n",
       "      <td>...</td>\n",
       "      <td>...</td>\n",
       "      <td>...</td>\n",
       "      <td>...</td>\n",
       "      <td>...</td>\n",
       "      <td>...</td>\n",
       "    </tr>\n",
       "    <tr>\n",
       "      <th>8123</th>\n",
       "      <td>2013.0</td>\n",
       "      <td>320000.0</td>\n",
       "      <td>110000</td>\n",
       "      <td>113.0</td>\n",
       "      <td>5.0</td>\n",
       "      <td>18.50</td>\n",
       "      <td>1197.0</td>\n",
       "      <td>82.85</td>\n",
       "      <td>0</td>\n",
       "      <td>0</td>\n",
       "      <td>1</td>\n",
       "      <td>1</td>\n",
       "      <td>0</td>\n",
       "      <td>1</td>\n",
       "      <td>0</td>\n",
       "      <td>0</td>\n",
       "      <td>0</td>\n",
       "      <td>0</td>\n",
       "    </tr>\n",
       "    <tr>\n",
       "      <th>8124</th>\n",
       "      <td>2007.0</td>\n",
       "      <td>135000.0</td>\n",
       "      <td>119000</td>\n",
       "      <td>235.2</td>\n",
       "      <td>5.0</td>\n",
       "      <td>16.80</td>\n",
       "      <td>1493.0</td>\n",
       "      <td>110.00</td>\n",
       "      <td>1</td>\n",
       "      <td>0</td>\n",
       "      <td>0</td>\n",
       "      <td>1</td>\n",
       "      <td>0</td>\n",
       "      <td>1</td>\n",
       "      <td>1</td>\n",
       "      <td>0</td>\n",
       "      <td>0</td>\n",
       "      <td>0</td>\n",
       "    </tr>\n",
       "    <tr>\n",
       "      <th>8125</th>\n",
       "      <td>2009.0</td>\n",
       "      <td>382000.0</td>\n",
       "      <td>120000</td>\n",
       "      <td>190.0</td>\n",
       "      <td>5.0</td>\n",
       "      <td>19.30</td>\n",
       "      <td>1248.0</td>\n",
       "      <td>73.90</td>\n",
       "      <td>1</td>\n",
       "      <td>0</td>\n",
       "      <td>0</td>\n",
       "      <td>1</td>\n",
       "      <td>0</td>\n",
       "      <td>1</td>\n",
       "      <td>0</td>\n",
       "      <td>0</td>\n",
       "      <td>0</td>\n",
       "      <td>0</td>\n",
       "    </tr>\n",
       "    <tr>\n",
       "      <th>8126</th>\n",
       "      <td>2013.0</td>\n",
       "      <td>290000.0</td>\n",
       "      <td>25000</td>\n",
       "      <td>140.0</td>\n",
       "      <td>5.0</td>\n",
       "      <td>23.57</td>\n",
       "      <td>1396.0</td>\n",
       "      <td>70.00</td>\n",
       "      <td>1</td>\n",
       "      <td>0</td>\n",
       "      <td>0</td>\n",
       "      <td>1</td>\n",
       "      <td>0</td>\n",
       "      <td>1</td>\n",
       "      <td>0</td>\n",
       "      <td>0</td>\n",
       "      <td>0</td>\n",
       "      <td>0</td>\n",
       "    </tr>\n",
       "    <tr>\n",
       "      <th>8127</th>\n",
       "      <td>2013.0</td>\n",
       "      <td>290000.0</td>\n",
       "      <td>25000</td>\n",
       "      <td>140.0</td>\n",
       "      <td>5.0</td>\n",
       "      <td>23.57</td>\n",
       "      <td>1396.0</td>\n",
       "      <td>70.00</td>\n",
       "      <td>1</td>\n",
       "      <td>0</td>\n",
       "      <td>0</td>\n",
       "      <td>1</td>\n",
       "      <td>0</td>\n",
       "      <td>1</td>\n",
       "      <td>0</td>\n",
       "      <td>0</td>\n",
       "      <td>0</td>\n",
       "      <td>0</td>\n",
       "    </tr>\n",
       "  </tbody>\n",
       "</table>\n",
       "<p>8128 rows × 18 columns</p>\n",
       "</div>"
      ],
      "text/plain": [
       "        year  selling_price  km_driven  torque  seats  mileage_  engine_  \\\n",
       "0     2014.0       450000.0     145500   190.0    5.0     23.40   1248.0   \n",
       "1     2014.0       370000.0     120000   250.0    5.0     21.14   1498.0   \n",
       "2     2006.0       158000.0     140000   117.6    5.0     17.70   1497.0   \n",
       "3     2010.0       225000.0     127000   215.6    5.0     23.00   1396.0   \n",
       "4     2007.0       130000.0     120000   107.8    5.0     16.10   1298.0   \n",
       "...      ...            ...        ...     ...    ...       ...      ...   \n",
       "8123  2013.0       320000.0     110000   113.0    5.0     18.50   1197.0   \n",
       "8124  2007.0       135000.0     119000   235.2    5.0     16.80   1493.0   \n",
       "8125  2009.0       382000.0     120000   190.0    5.0     19.30   1248.0   \n",
       "8126  2013.0       290000.0      25000   140.0    5.0     23.57   1396.0   \n",
       "8127  2013.0       290000.0      25000   140.0    5.0     23.57   1396.0   \n",
       "\n",
       "      max_power_number  fuel_Diesel  fuel_LPG  fuel_Petrol  \\\n",
       "0                74.00            1         0            0   \n",
       "1               103.52            1         0            0   \n",
       "2                78.00            0         0            1   \n",
       "3                90.00            1         0            0   \n",
       "4                88.20            0         0            1   \n",
       "...                ...          ...       ...          ...   \n",
       "8123             82.85            0         0            1   \n",
       "8124            110.00            1         0            0   \n",
       "8125             73.90            1         0            0   \n",
       "8126             70.00            1         0            0   \n",
       "8127             70.00            1         0            0   \n",
       "\n",
       "      seller_type_Individual  seller_type_Trustmark Dealer  \\\n",
       "0                          1                             0   \n",
       "1                          1                             0   \n",
       "2                          1                             0   \n",
       "3                          1                             0   \n",
       "4                          1                             0   \n",
       "...                      ...                           ...   \n",
       "8123                       1                             0   \n",
       "8124                       1                             0   \n",
       "8125                       1                             0   \n",
       "8126                       1                             0   \n",
       "8127                       1                             0   \n",
       "\n",
       "      transmission_Manual  owner_Fourth & Above Owner  owner_Second Owner  \\\n",
       "0                       1                           0                   0   \n",
       "1                       1                           0                   1   \n",
       "2                       1                           0                   0   \n",
       "3                       1                           0                   0   \n",
       "4                       1                           0                   0   \n",
       "...                   ...                         ...                 ...   \n",
       "8123                    1                           0                   0   \n",
       "8124                    1                           1                   0   \n",
       "8125                    1                           0                   0   \n",
       "8126                    1                           0                   0   \n",
       "8127                    1                           0                   0   \n",
       "\n",
       "      owner_Test Drive Car  owner_Third Owner  \n",
       "0                        0                  0  \n",
       "1                        0                  0  \n",
       "2                        0                  1  \n",
       "3                        0                  0  \n",
       "4                        0                  0  \n",
       "...                    ...                ...  \n",
       "8123                     0                  0  \n",
       "8124                     0                  0  \n",
       "8125                     0                  0  \n",
       "8126                     0                  0  \n",
       "8127                     0                  0  \n",
       "\n",
       "[8128 rows x 18 columns]"
      ]
     },
     "execution_count": 39,
     "metadata": {},
     "output_type": "execute_result"
    }
   ],
   "source": [
    "data1"
   ]
  },
  {
   "cell_type": "code",
   "execution_count": 40,
   "id": "2d79d822",
   "metadata": {},
   "outputs": [
    {
     "name": "stdout",
     "output_type": "stream",
     "text": [
      "<class 'pandas.core.frame.DataFrame'>\n",
      "RangeIndex: 8128 entries, 0 to 8127\n",
      "Data columns (total 18 columns):\n",
      " #   Column                        Non-Null Count  Dtype  \n",
      "---  ------                        --------------  -----  \n",
      " 0   year                          8128 non-null   float64\n",
      " 1   selling_price                 8128 non-null   float64\n",
      " 2   km_driven                     8128 non-null   int64  \n",
      " 3   torque                        8128 non-null   float64\n",
      " 4   seats                         8128 non-null   float64\n",
      " 5   mileage_                      8128 non-null   float64\n",
      " 6   engine_                       8128 non-null   float64\n",
      " 7   max_power_number              8128 non-null   float64\n",
      " 8   fuel_Diesel                   8128 non-null   uint8  \n",
      " 9   fuel_LPG                      8128 non-null   uint8  \n",
      " 10  fuel_Petrol                   8128 non-null   uint8  \n",
      " 11  seller_type_Individual        8128 non-null   uint8  \n",
      " 12  seller_type_Trustmark Dealer  8128 non-null   uint8  \n",
      " 13  transmission_Manual           8128 non-null   uint8  \n",
      " 14  owner_Fourth & Above Owner    8128 non-null   uint8  \n",
      " 15  owner_Second Owner            8128 non-null   uint8  \n",
      " 16  owner_Test Drive Car          8128 non-null   uint8  \n",
      " 17  owner_Third Owner             8128 non-null   uint8  \n",
      "dtypes: float64(7), int64(1), uint8(10)\n",
      "memory usage: 587.5 KB\n"
     ]
    }
   ],
   "source": [
    "data1.info()"
   ]
  },
  {
   "cell_type": "markdown",
   "id": "fb549cc7",
   "metadata": {},
   "source": [
    "### standardisation"
   ]
  },
  {
   "cell_type": "code",
   "execution_count": 41,
   "id": "ac3e1bbd",
   "metadata": {},
   "outputs": [],
   "source": [
    "#from sklearn import preprocessing\n",
    "#standardisation=preprocessing.StandardScaler()\n",
    "#data2=standardisation.fit_transform(data1)"
   ]
  },
  {
   "cell_type": "markdown",
   "id": "d7c06fa9",
   "metadata": {},
   "source": [
    "### Feature Engineering"
   ]
  },
  {
   "cell_type": "code",
   "execution_count": 42,
   "id": "7025d834",
   "metadata": {},
   "outputs": [],
   "source": [
    "data2=data"
   ]
  },
  {
   "cell_type": "code",
   "execution_count": 43,
   "id": "a65a835c",
   "metadata": {},
   "outputs": [
    {
     "data": {
      "text/html": [
       "<div>\n",
       "<style scoped>\n",
       "    .dataframe tbody tr th:only-of-type {\n",
       "        vertical-align: middle;\n",
       "    }\n",
       "\n",
       "    .dataframe tbody tr th {\n",
       "        vertical-align: top;\n",
       "    }\n",
       "\n",
       "    .dataframe thead th {\n",
       "        text-align: right;\n",
       "    }\n",
       "</style>\n",
       "<table border=\"1\" class=\"dataframe\">\n",
       "  <thead>\n",
       "    <tr style=\"text-align: right;\">\n",
       "      <th></th>\n",
       "      <th>year</th>\n",
       "      <th>selling_price</th>\n",
       "      <th>km_driven</th>\n",
       "      <th>torque</th>\n",
       "      <th>seats</th>\n",
       "      <th>mileage_</th>\n",
       "      <th>engine_</th>\n",
       "      <th>max_power_number</th>\n",
       "      <th>fuel_Diesel</th>\n",
       "      <th>fuel_LPG</th>\n",
       "      <th>fuel_Petrol</th>\n",
       "      <th>seller_type_Individual</th>\n",
       "      <th>seller_type_Trustmark Dealer</th>\n",
       "      <th>transmission_Manual</th>\n",
       "      <th>owner_Fourth &amp; Above Owner</th>\n",
       "      <th>owner_Second Owner</th>\n",
       "      <th>owner_Test Drive Car</th>\n",
       "      <th>owner_Third Owner</th>\n",
       "    </tr>\n",
       "  </thead>\n",
       "  <tbody>\n",
       "    <tr>\n",
       "      <th>0</th>\n",
       "      <td>2014.0</td>\n",
       "      <td>450000.0</td>\n",
       "      <td>145500</td>\n",
       "      <td>190.0</td>\n",
       "      <td>5.0</td>\n",
       "      <td>23.40</td>\n",
       "      <td>1248.0</td>\n",
       "      <td>74.00</td>\n",
       "      <td>1</td>\n",
       "      <td>0</td>\n",
       "      <td>0</td>\n",
       "      <td>1</td>\n",
       "      <td>0</td>\n",
       "      <td>1</td>\n",
       "      <td>0</td>\n",
       "      <td>0</td>\n",
       "      <td>0</td>\n",
       "      <td>0</td>\n",
       "    </tr>\n",
       "    <tr>\n",
       "      <th>1</th>\n",
       "      <td>2014.0</td>\n",
       "      <td>370000.0</td>\n",
       "      <td>120000</td>\n",
       "      <td>250.0</td>\n",
       "      <td>5.0</td>\n",
       "      <td>21.14</td>\n",
       "      <td>1498.0</td>\n",
       "      <td>103.52</td>\n",
       "      <td>1</td>\n",
       "      <td>0</td>\n",
       "      <td>0</td>\n",
       "      <td>1</td>\n",
       "      <td>0</td>\n",
       "      <td>1</td>\n",
       "      <td>0</td>\n",
       "      <td>1</td>\n",
       "      <td>0</td>\n",
       "      <td>0</td>\n",
       "    </tr>\n",
       "    <tr>\n",
       "      <th>2</th>\n",
       "      <td>2006.0</td>\n",
       "      <td>158000.0</td>\n",
       "      <td>140000</td>\n",
       "      <td>117.6</td>\n",
       "      <td>5.0</td>\n",
       "      <td>17.70</td>\n",
       "      <td>1497.0</td>\n",
       "      <td>78.00</td>\n",
       "      <td>0</td>\n",
       "      <td>0</td>\n",
       "      <td>1</td>\n",
       "      <td>1</td>\n",
       "      <td>0</td>\n",
       "      <td>1</td>\n",
       "      <td>0</td>\n",
       "      <td>0</td>\n",
       "      <td>0</td>\n",
       "      <td>1</td>\n",
       "    </tr>\n",
       "    <tr>\n",
       "      <th>3</th>\n",
       "      <td>2010.0</td>\n",
       "      <td>225000.0</td>\n",
       "      <td>127000</td>\n",
       "      <td>215.6</td>\n",
       "      <td>5.0</td>\n",
       "      <td>23.00</td>\n",
       "      <td>1396.0</td>\n",
       "      <td>90.00</td>\n",
       "      <td>1</td>\n",
       "      <td>0</td>\n",
       "      <td>0</td>\n",
       "      <td>1</td>\n",
       "      <td>0</td>\n",
       "      <td>1</td>\n",
       "      <td>0</td>\n",
       "      <td>0</td>\n",
       "      <td>0</td>\n",
       "      <td>0</td>\n",
       "    </tr>\n",
       "    <tr>\n",
       "      <th>4</th>\n",
       "      <td>2007.0</td>\n",
       "      <td>130000.0</td>\n",
       "      <td>120000</td>\n",
       "      <td>107.8</td>\n",
       "      <td>5.0</td>\n",
       "      <td>16.10</td>\n",
       "      <td>1298.0</td>\n",
       "      <td>88.20</td>\n",
       "      <td>0</td>\n",
       "      <td>0</td>\n",
       "      <td>1</td>\n",
       "      <td>1</td>\n",
       "      <td>0</td>\n",
       "      <td>1</td>\n",
       "      <td>0</td>\n",
       "      <td>0</td>\n",
       "      <td>0</td>\n",
       "      <td>0</td>\n",
       "    </tr>\n",
       "    <tr>\n",
       "      <th>...</th>\n",
       "      <td>...</td>\n",
       "      <td>...</td>\n",
       "      <td>...</td>\n",
       "      <td>...</td>\n",
       "      <td>...</td>\n",
       "      <td>...</td>\n",
       "      <td>...</td>\n",
       "      <td>...</td>\n",
       "      <td>...</td>\n",
       "      <td>...</td>\n",
       "      <td>...</td>\n",
       "      <td>...</td>\n",
       "      <td>...</td>\n",
       "      <td>...</td>\n",
       "      <td>...</td>\n",
       "      <td>...</td>\n",
       "      <td>...</td>\n",
       "      <td>...</td>\n",
       "    </tr>\n",
       "    <tr>\n",
       "      <th>8123</th>\n",
       "      <td>2013.0</td>\n",
       "      <td>320000.0</td>\n",
       "      <td>110000</td>\n",
       "      <td>113.0</td>\n",
       "      <td>5.0</td>\n",
       "      <td>18.50</td>\n",
       "      <td>1197.0</td>\n",
       "      <td>82.85</td>\n",
       "      <td>0</td>\n",
       "      <td>0</td>\n",
       "      <td>1</td>\n",
       "      <td>1</td>\n",
       "      <td>0</td>\n",
       "      <td>1</td>\n",
       "      <td>0</td>\n",
       "      <td>0</td>\n",
       "      <td>0</td>\n",
       "      <td>0</td>\n",
       "    </tr>\n",
       "    <tr>\n",
       "      <th>8124</th>\n",
       "      <td>2007.0</td>\n",
       "      <td>135000.0</td>\n",
       "      <td>119000</td>\n",
       "      <td>235.2</td>\n",
       "      <td>5.0</td>\n",
       "      <td>16.80</td>\n",
       "      <td>1493.0</td>\n",
       "      <td>110.00</td>\n",
       "      <td>1</td>\n",
       "      <td>0</td>\n",
       "      <td>0</td>\n",
       "      <td>1</td>\n",
       "      <td>0</td>\n",
       "      <td>1</td>\n",
       "      <td>1</td>\n",
       "      <td>0</td>\n",
       "      <td>0</td>\n",
       "      <td>0</td>\n",
       "    </tr>\n",
       "    <tr>\n",
       "      <th>8125</th>\n",
       "      <td>2009.0</td>\n",
       "      <td>382000.0</td>\n",
       "      <td>120000</td>\n",
       "      <td>190.0</td>\n",
       "      <td>5.0</td>\n",
       "      <td>19.30</td>\n",
       "      <td>1248.0</td>\n",
       "      <td>73.90</td>\n",
       "      <td>1</td>\n",
       "      <td>0</td>\n",
       "      <td>0</td>\n",
       "      <td>1</td>\n",
       "      <td>0</td>\n",
       "      <td>1</td>\n",
       "      <td>0</td>\n",
       "      <td>0</td>\n",
       "      <td>0</td>\n",
       "      <td>0</td>\n",
       "    </tr>\n",
       "    <tr>\n",
       "      <th>8126</th>\n",
       "      <td>2013.0</td>\n",
       "      <td>290000.0</td>\n",
       "      <td>25000</td>\n",
       "      <td>140.0</td>\n",
       "      <td>5.0</td>\n",
       "      <td>23.57</td>\n",
       "      <td>1396.0</td>\n",
       "      <td>70.00</td>\n",
       "      <td>1</td>\n",
       "      <td>0</td>\n",
       "      <td>0</td>\n",
       "      <td>1</td>\n",
       "      <td>0</td>\n",
       "      <td>1</td>\n",
       "      <td>0</td>\n",
       "      <td>0</td>\n",
       "      <td>0</td>\n",
       "      <td>0</td>\n",
       "    </tr>\n",
       "    <tr>\n",
       "      <th>8127</th>\n",
       "      <td>2013.0</td>\n",
       "      <td>290000.0</td>\n",
       "      <td>25000</td>\n",
       "      <td>140.0</td>\n",
       "      <td>5.0</td>\n",
       "      <td>23.57</td>\n",
       "      <td>1396.0</td>\n",
       "      <td>70.00</td>\n",
       "      <td>1</td>\n",
       "      <td>0</td>\n",
       "      <td>0</td>\n",
       "      <td>1</td>\n",
       "      <td>0</td>\n",
       "      <td>1</td>\n",
       "      <td>0</td>\n",
       "      <td>0</td>\n",
       "      <td>0</td>\n",
       "      <td>0</td>\n",
       "    </tr>\n",
       "  </tbody>\n",
       "</table>\n",
       "<p>8128 rows × 18 columns</p>\n",
       "</div>"
      ],
      "text/plain": [
       "        year  selling_price  km_driven  torque  seats  mileage_  engine_  \\\n",
       "0     2014.0       450000.0     145500   190.0    5.0     23.40   1248.0   \n",
       "1     2014.0       370000.0     120000   250.0    5.0     21.14   1498.0   \n",
       "2     2006.0       158000.0     140000   117.6    5.0     17.70   1497.0   \n",
       "3     2010.0       225000.0     127000   215.6    5.0     23.00   1396.0   \n",
       "4     2007.0       130000.0     120000   107.8    5.0     16.10   1298.0   \n",
       "...      ...            ...        ...     ...    ...       ...      ...   \n",
       "8123  2013.0       320000.0     110000   113.0    5.0     18.50   1197.0   \n",
       "8124  2007.0       135000.0     119000   235.2    5.0     16.80   1493.0   \n",
       "8125  2009.0       382000.0     120000   190.0    5.0     19.30   1248.0   \n",
       "8126  2013.0       290000.0      25000   140.0    5.0     23.57   1396.0   \n",
       "8127  2013.0       290000.0      25000   140.0    5.0     23.57   1396.0   \n",
       "\n",
       "      max_power_number  fuel_Diesel  fuel_LPG  fuel_Petrol  \\\n",
       "0                74.00            1         0            0   \n",
       "1               103.52            1         0            0   \n",
       "2                78.00            0         0            1   \n",
       "3                90.00            1         0            0   \n",
       "4                88.20            0         0            1   \n",
       "...                ...          ...       ...          ...   \n",
       "8123             82.85            0         0            1   \n",
       "8124            110.00            1         0            0   \n",
       "8125             73.90            1         0            0   \n",
       "8126             70.00            1         0            0   \n",
       "8127             70.00            1         0            0   \n",
       "\n",
       "      seller_type_Individual  seller_type_Trustmark Dealer  \\\n",
       "0                          1                             0   \n",
       "1                          1                             0   \n",
       "2                          1                             0   \n",
       "3                          1                             0   \n",
       "4                          1                             0   \n",
       "...                      ...                           ...   \n",
       "8123                       1                             0   \n",
       "8124                       1                             0   \n",
       "8125                       1                             0   \n",
       "8126                       1                             0   \n",
       "8127                       1                             0   \n",
       "\n",
       "      transmission_Manual  owner_Fourth & Above Owner  owner_Second Owner  \\\n",
       "0                       1                           0                   0   \n",
       "1                       1                           0                   1   \n",
       "2                       1                           0                   0   \n",
       "3                       1                           0                   0   \n",
       "4                       1                           0                   0   \n",
       "...                   ...                         ...                 ...   \n",
       "8123                    1                           0                   0   \n",
       "8124                    1                           1                   0   \n",
       "8125                    1                           0                   0   \n",
       "8126                    1                           0                   0   \n",
       "8127                    1                           0                   0   \n",
       "\n",
       "      owner_Test Drive Car  owner_Third Owner  \n",
       "0                        0                  0  \n",
       "1                        0                  0  \n",
       "2                        0                  1  \n",
       "3                        0                  0  \n",
       "4                        0                  0  \n",
       "...                    ...                ...  \n",
       "8123                     0                  0  \n",
       "8124                     0                  0  \n",
       "8125                     0                  0  \n",
       "8126                     0                  0  \n",
       "8127                     0                  0  \n",
       "\n",
       "[8128 rows x 18 columns]"
      ]
     },
     "execution_count": 43,
     "metadata": {},
     "output_type": "execute_result"
    }
   ],
   "source": [
    "data1"
   ]
  },
  {
   "cell_type": "code",
   "execution_count": 44,
   "id": "b01c81a0",
   "metadata": {},
   "outputs": [
    {
     "name": "stdout",
     "output_type": "stream",
     "text": [
      "Current year: 2022\n"
     ]
    }
   ],
   "source": [
    "#Create a feature named 'Car_age' which is current_year-'year'\n",
    "\n",
    "from datetime import date\n",
    "todays_date = date.today()\n",
    "print(\"Current year:\", todays_date.year)\n",
    "\n",
    "data2['Car_age']=todays_date.year-data2['year']\n",
    "\n",
    "data2.drop('year', axis=1, inplace=True)"
   ]
  },
  {
   "cell_type": "code",
   "execution_count": 45,
   "id": "dbc0b51c",
   "metadata": {},
   "outputs": [
    {
     "data": {
      "text/html": [
       "<div>\n",
       "<style scoped>\n",
       "    .dataframe tbody tr th:only-of-type {\n",
       "        vertical-align: middle;\n",
       "    }\n",
       "\n",
       "    .dataframe tbody tr th {\n",
       "        vertical-align: top;\n",
       "    }\n",
       "\n",
       "    .dataframe thead th {\n",
       "        text-align: right;\n",
       "    }\n",
       "</style>\n",
       "<table border=\"1\" class=\"dataframe\">\n",
       "  <thead>\n",
       "    <tr style=\"text-align: right;\">\n",
       "      <th></th>\n",
       "      <th>selling_price</th>\n",
       "      <th>km_driven</th>\n",
       "      <th>fuel</th>\n",
       "      <th>seller_type</th>\n",
       "      <th>transmission</th>\n",
       "      <th>owner</th>\n",
       "      <th>torque</th>\n",
       "      <th>seats</th>\n",
       "      <th>mileage_</th>\n",
       "      <th>engine_</th>\n",
       "      <th>max_power_number</th>\n",
       "      <th>Car_age</th>\n",
       "    </tr>\n",
       "  </thead>\n",
       "  <tbody>\n",
       "    <tr>\n",
       "      <th>0</th>\n",
       "      <td>450000.0</td>\n",
       "      <td>145500</td>\n",
       "      <td>Diesel</td>\n",
       "      <td>Individual</td>\n",
       "      <td>Manual</td>\n",
       "      <td>First Owner</td>\n",
       "      <td>190.0</td>\n",
       "      <td>5.0</td>\n",
       "      <td>23.40</td>\n",
       "      <td>1248.0</td>\n",
       "      <td>74.00</td>\n",
       "      <td>8.0</td>\n",
       "    </tr>\n",
       "    <tr>\n",
       "      <th>1</th>\n",
       "      <td>370000.0</td>\n",
       "      <td>120000</td>\n",
       "      <td>Diesel</td>\n",
       "      <td>Individual</td>\n",
       "      <td>Manual</td>\n",
       "      <td>Second Owner</td>\n",
       "      <td>250.0</td>\n",
       "      <td>5.0</td>\n",
       "      <td>21.14</td>\n",
       "      <td>1498.0</td>\n",
       "      <td>103.52</td>\n",
       "      <td>8.0</td>\n",
       "    </tr>\n",
       "    <tr>\n",
       "      <th>2</th>\n",
       "      <td>158000.0</td>\n",
       "      <td>140000</td>\n",
       "      <td>Petrol</td>\n",
       "      <td>Individual</td>\n",
       "      <td>Manual</td>\n",
       "      <td>Third Owner</td>\n",
       "      <td>117.6</td>\n",
       "      <td>5.0</td>\n",
       "      <td>17.70</td>\n",
       "      <td>1497.0</td>\n",
       "      <td>78.00</td>\n",
       "      <td>16.0</td>\n",
       "    </tr>\n",
       "    <tr>\n",
       "      <th>3</th>\n",
       "      <td>225000.0</td>\n",
       "      <td>127000</td>\n",
       "      <td>Diesel</td>\n",
       "      <td>Individual</td>\n",
       "      <td>Manual</td>\n",
       "      <td>First Owner</td>\n",
       "      <td>215.6</td>\n",
       "      <td>5.0</td>\n",
       "      <td>23.00</td>\n",
       "      <td>1396.0</td>\n",
       "      <td>90.00</td>\n",
       "      <td>12.0</td>\n",
       "    </tr>\n",
       "    <tr>\n",
       "      <th>4</th>\n",
       "      <td>130000.0</td>\n",
       "      <td>120000</td>\n",
       "      <td>Petrol</td>\n",
       "      <td>Individual</td>\n",
       "      <td>Manual</td>\n",
       "      <td>First Owner</td>\n",
       "      <td>107.8</td>\n",
       "      <td>5.0</td>\n",
       "      <td>16.10</td>\n",
       "      <td>1298.0</td>\n",
       "      <td>88.20</td>\n",
       "      <td>15.0</td>\n",
       "    </tr>\n",
       "    <tr>\n",
       "      <th>...</th>\n",
       "      <td>...</td>\n",
       "      <td>...</td>\n",
       "      <td>...</td>\n",
       "      <td>...</td>\n",
       "      <td>...</td>\n",
       "      <td>...</td>\n",
       "      <td>...</td>\n",
       "      <td>...</td>\n",
       "      <td>...</td>\n",
       "      <td>...</td>\n",
       "      <td>...</td>\n",
       "      <td>...</td>\n",
       "    </tr>\n",
       "    <tr>\n",
       "      <th>8123</th>\n",
       "      <td>320000.0</td>\n",
       "      <td>110000</td>\n",
       "      <td>Petrol</td>\n",
       "      <td>Individual</td>\n",
       "      <td>Manual</td>\n",
       "      <td>First Owner</td>\n",
       "      <td>113.0</td>\n",
       "      <td>5.0</td>\n",
       "      <td>18.50</td>\n",
       "      <td>1197.0</td>\n",
       "      <td>82.85</td>\n",
       "      <td>9.0</td>\n",
       "    </tr>\n",
       "    <tr>\n",
       "      <th>8124</th>\n",
       "      <td>135000.0</td>\n",
       "      <td>119000</td>\n",
       "      <td>Diesel</td>\n",
       "      <td>Individual</td>\n",
       "      <td>Manual</td>\n",
       "      <td>Fourth &amp; Above Owner</td>\n",
       "      <td>235.2</td>\n",
       "      <td>5.0</td>\n",
       "      <td>16.80</td>\n",
       "      <td>1493.0</td>\n",
       "      <td>110.00</td>\n",
       "      <td>15.0</td>\n",
       "    </tr>\n",
       "    <tr>\n",
       "      <th>8125</th>\n",
       "      <td>382000.0</td>\n",
       "      <td>120000</td>\n",
       "      <td>Diesel</td>\n",
       "      <td>Individual</td>\n",
       "      <td>Manual</td>\n",
       "      <td>First Owner</td>\n",
       "      <td>190.0</td>\n",
       "      <td>5.0</td>\n",
       "      <td>19.30</td>\n",
       "      <td>1248.0</td>\n",
       "      <td>73.90</td>\n",
       "      <td>13.0</td>\n",
       "    </tr>\n",
       "    <tr>\n",
       "      <th>8126</th>\n",
       "      <td>290000.0</td>\n",
       "      <td>25000</td>\n",
       "      <td>Diesel</td>\n",
       "      <td>Individual</td>\n",
       "      <td>Manual</td>\n",
       "      <td>First Owner</td>\n",
       "      <td>140.0</td>\n",
       "      <td>5.0</td>\n",
       "      <td>23.57</td>\n",
       "      <td>1396.0</td>\n",
       "      <td>70.00</td>\n",
       "      <td>9.0</td>\n",
       "    </tr>\n",
       "    <tr>\n",
       "      <th>8127</th>\n",
       "      <td>290000.0</td>\n",
       "      <td>25000</td>\n",
       "      <td>Diesel</td>\n",
       "      <td>Individual</td>\n",
       "      <td>Manual</td>\n",
       "      <td>First Owner</td>\n",
       "      <td>140.0</td>\n",
       "      <td>5.0</td>\n",
       "      <td>23.57</td>\n",
       "      <td>1396.0</td>\n",
       "      <td>70.00</td>\n",
       "      <td>9.0</td>\n",
       "    </tr>\n",
       "  </tbody>\n",
       "</table>\n",
       "<p>8128 rows × 12 columns</p>\n",
       "</div>"
      ],
      "text/plain": [
       "      selling_price  km_driven    fuel seller_type transmission  \\\n",
       "0          450000.0     145500  Diesel  Individual       Manual   \n",
       "1          370000.0     120000  Diesel  Individual       Manual   \n",
       "2          158000.0     140000  Petrol  Individual       Manual   \n",
       "3          225000.0     127000  Diesel  Individual       Manual   \n",
       "4          130000.0     120000  Petrol  Individual       Manual   \n",
       "...             ...        ...     ...         ...          ...   \n",
       "8123       320000.0     110000  Petrol  Individual       Manual   \n",
       "8124       135000.0     119000  Diesel  Individual       Manual   \n",
       "8125       382000.0     120000  Diesel  Individual       Manual   \n",
       "8126       290000.0      25000  Diesel  Individual       Manual   \n",
       "8127       290000.0      25000  Diesel  Individual       Manual   \n",
       "\n",
       "                     owner  torque  seats  mileage_  engine_  \\\n",
       "0              First Owner   190.0    5.0     23.40   1248.0   \n",
       "1             Second Owner   250.0    5.0     21.14   1498.0   \n",
       "2              Third Owner   117.6    5.0     17.70   1497.0   \n",
       "3              First Owner   215.6    5.0     23.00   1396.0   \n",
       "4              First Owner   107.8    5.0     16.10   1298.0   \n",
       "...                    ...     ...    ...       ...      ...   \n",
       "8123           First Owner   113.0    5.0     18.50   1197.0   \n",
       "8124  Fourth & Above Owner   235.2    5.0     16.80   1493.0   \n",
       "8125           First Owner   190.0    5.0     19.30   1248.0   \n",
       "8126           First Owner   140.0    5.0     23.57   1396.0   \n",
       "8127           First Owner   140.0    5.0     23.57   1396.0   \n",
       "\n",
       "      max_power_number  Car_age  \n",
       "0                74.00      8.0  \n",
       "1               103.52      8.0  \n",
       "2                78.00     16.0  \n",
       "3                90.00     12.0  \n",
       "4                88.20     15.0  \n",
       "...                ...      ...  \n",
       "8123             82.85      9.0  \n",
       "8124            110.00     15.0  \n",
       "8125             73.90     13.0  \n",
       "8126             70.00      9.0  \n",
       "8127             70.00      9.0  \n",
       "\n",
       "[8128 rows x 12 columns]"
      ]
     },
     "execution_count": 45,
     "metadata": {},
     "output_type": "execute_result"
    }
   ],
   "source": [
    "data"
   ]
  },
  {
   "cell_type": "markdown",
   "id": "8b8d2e56",
   "metadata": {},
   "source": [
    "# EDA"
   ]
  },
  {
   "cell_type": "code",
   "execution_count": 46,
   "id": "67dde7c5",
   "metadata": {},
   "outputs": [
    {
     "name": "stdout",
     "output_type": "stream",
     "text": [
      "Categorical features: ['fuel', 'seller_type', 'transmission', 'owner'] \n",
      "\n",
      "Numerical features: ['selling_price', 'km_driven', 'torque', 'seats', 'mileage_', 'engine_', 'max_power_number', 'Car_age']\n"
     ]
    }
   ],
   "source": [
    "#Get categorical and numerical columns\n",
    "categorical_cols=[cname for cname in data.columns if data[cname].dtypes=='object']\n",
    "numerical_cols=[cname for cname in data.columns if data[cname].dtypes!='object']\n",
    "print('Categorical features:',categorical_cols,'\\n')\n",
    "print('Numerical features:',numerical_cols)"
   ]
  },
  {
   "cell_type": "code",
   "execution_count": 47,
   "id": "83b7569b",
   "metadata": {
    "scrolled": false
   },
   "outputs": [
    {
     "data": {
      "image/png": "[encoded data removed]",
      "text/plain": [
       "<Figure size 432x288 with 1 Axes>"
      ]
     },
     "metadata": {
      "needs_background": "light"
     },
     "output_type": "display_data"
    },
    {
     "data": {
      "text/plain": [
       "<Figure size 1080x1080 with 0 Axes>"
      ]
     },
     "metadata": {},
     "output_type": "display_data"
    },
    {
     "data": {
      "image/png": "[encoded data removed]",
      "text/plain": [
       "<Figure size 432x288 with 1 Axes>"
      ]
     },
     "metadata": {
      "needs_background": "light"
     },
     "output_type": "display_data"
    },
    {
     "data": {
      "text/plain": [
       "<Figure size 1080x1080 with 0 Axes>"
      ]
     },
     "metadata": {},
     "output_type": "display_data"
    },
    {
     "data": {
      "image/png": "[encoded data removed]",
      "text/plain": [
       "<Figure size 432x288 with 1 Axes>"
      ]
     },
     "metadata": {
      "needs_background": "light"
     },
     "output_type": "display_data"
    },
    {
     "data": {
      "text/plain": [
       "<Figure size 1080x1080 with 0 Axes>"
      ]
     },
     "metadata": {},
     "output_type": "display_data"
    },
    {
     "data": {
      "image/png": "[encoded data removed]",
      "text/plain": [
       "<Figure size 432x288 with 1 Axes>"
      ]
     },
     "metadata": {
      "needs_background": "light"
     },
     "output_type": "display_data"
    },
    {
     "data": {
      "text/plain": [
       "<Figure size 1080x1080 with 0 Axes>"
      ]
     },
     "metadata": {},
     "output_type": "display_data"
    },
    {
     "data": {
      "image/png": "[encoded data removed]",
      "text/plain": [
       "<Figure size 432x288 with 1 Axes>"
      ]
     },
     "metadata": {
      "needs_background": "light"
     },
     "output_type": "display_data"
    },
    {
     "data": {
      "text/plain": [
       "<Figure size 1080x1080 with 0 Axes>"
      ]
     },
     "metadata": {},
     "output_type": "display_data"
    },
    {
     "data": {
      "image/png": "[encoded data removed]",
      "text/plain": [
       "<Figure size 432x288 with 1 Axes>"
      ]
     },
     "metadata": {
      "needs_background": "light"
     },
     "output_type": "display_data"
    },
    {
     "data": {
      "text/plain": [
       "<Figure size 1080x1080 with 0 Axes>"
      ]
     },
     "metadata": {},
     "output_type": "display_data"
    },
    {
     "data": {
      "image/png": "[encoded data removed]",
      "text/plain": [
       "<Figure size 432x288 with 1 Axes>"
      ]
     },
     "metadata": {
      "needs_background": "light"
     },
     "output_type": "display_data"
    },
    {
     "data": {
      "text/plain": [
       "<Figure size 1080x1080 with 0 Axes>"
      ]
     },
     "metadata": {},
     "output_type": "display_data"
    },
    {
     "data": {
      "image/png": "[encoded data removed]",
      "text/plain": [
       "<Figure size 432x288 with 1 Axes>"
      ]
     },
     "metadata": {
      "needs_background": "light"
     },
     "output_type": "display_data"
    },
    {
     "data": {
      "text/plain": [
       "<Figure size 1080x1080 with 0 Axes>"
      ]
     },
     "metadata": {},
     "output_type": "display_data"
    }
   ],
   "source": [
    "#Numeric data distribution\n",
    "for feature in numerical_cols:\n",
    "    sns.distplot(data[feature])\n",
    "    plt.xlabel(feature)\n",
    "    plt.ylabel(\"Count\")\n",
    "    plt.title(feature)\n",
    "    plt.figure(figsize=(15,15))\n",
    "    plt.show()"
   ]
  },
  {
   "cell_type": "code",
   "execution_count": 48,
   "id": "fd0cd242",
   "metadata": {},
   "outputs": [
    {
     "data": {
      "text/plain": [
       "Text(0.5, 1.0, 'Distribution fuel type')"
      ]
     },
     "execution_count": 48,
     "metadata": {},
     "output_type": "execute_result"
    },
    {
     "data": {
      "image/png": "[encoded data removed]",
      "text/plain": [
       "<Figure size 432x288 with 1 Axes>"
      ]
     },
     "metadata": {
      "needs_background": "light"
     },
     "output_type": "display_data"
    }
   ],
   "source": [
    "#Distribution fuel type\n",
    "sns.countplot(x='fuel', data=data)\n",
    "plt.xlabel('Fuel')\n",
    "plt.title('Distribution fuel type')"
   ]
  },
  {
   "cell_type": "markdown",
   "id": "dac588a6",
   "metadata": {},
   "source": [
    "most of the vehicles are diesel vehicles"
   ]
  },
  {
   "cell_type": "code",
   "execution_count": 49,
   "id": "004f5614",
   "metadata": {},
   "outputs": [
    {
     "data": {
      "text/plain": [
       "Text(0.5, 1.0, 'Engine Transmission')"
      ]
     },
     "execution_count": 49,
     "metadata": {},
     "output_type": "execute_result"
    },
    {
     "data": {
      "image/png": "[encoded data removed]",
      "text/plain": [
       "<Figure size 432x288 with 1 Axes>"
      ]
     },
     "metadata": {
      "needs_background": "light"
     },
     "output_type": "display_data"
    }
   ],
   "source": [
    "#Engine Transmission\n",
    "sns.countplot(x='transmission', data=data)\n",
    "plt.title('Engine Transmission')"
   ]
  },
  {
   "cell_type": "markdown",
   "id": "7d574a2b",
   "metadata": {},
   "source": [
    "Majority of the vehicles are Manual vehicles"
   ]
  },
  {
   "cell_type": "code",
   "execution_count": 50,
   "id": "e36fded1",
   "metadata": {},
   "outputs": [
    {
     "data": {
      "text/plain": [
       "Text(0.5, 1.0, 'Transmission-fuel')"
      ]
     },
     "execution_count": 50,
     "metadata": {},
     "output_type": "execute_result"
    },
    {
     "data": {
      "image/png": "[encoded data removed]",
      "text/plain": [
       "<Figure size 432x288 with 1 Axes>"
      ]
     },
     "metadata": {
      "needs_background": "light"
     },
     "output_type": "display_data"
    }
   ],
   "source": [
    "#Transmission-fuel\n",
    "sns.countplot(x='fuel', data=data, hue='transmission')\n",
    "plt.xlabel('Fuel')\n",
    "plt.title('Transmission-fuel')"
   ]
  },
  {
   "cell_type": "code",
   "execution_count": 51,
   "id": "f0ebc376",
   "metadata": {},
   "outputs": [
    {
     "data": {
      "text/plain": [
       "Text(0.5, 1.0, 'Owner')"
      ]
     },
     "execution_count": 51,
     "metadata": {},
     "output_type": "execute_result"
    },
    {
     "data": {
      "image/png": "[encoded data removed]",
      "text/plain": [
       "<Figure size 576x432 with 1 Axes>"
      ]
     },
     "metadata": {
      "needs_background": "light"
     },
     "output_type": "display_data"
    }
   ],
   "source": [
    "plt.figure(figsize=(8,6))\n",
    "sns.countplot(x='owner', data=data)\n",
    "plt.title('Owner')"
   ]
  },
  {
   "cell_type": "markdown",
   "id": "01929af6",
   "metadata": {},
   "source": [
    "Majority of the vehicles are new ones"
   ]
  },
  {
   "cell_type": "code",
   "execution_count": 52,
   "id": "835951d6",
   "metadata": {},
   "outputs": [
    {
     "data": {
      "text/plain": [
       "<AxesSubplot:xlabel='fuel', ylabel='mileage_'>"
      ]
     },
     "execution_count": 52,
     "metadata": {},
     "output_type": "execute_result"
    },
    {
     "data": {
      "image/png": "[encoded data removed]",
      "text/plain": [
       "<Figure size 432x288 with 1 Axes>"
      ]
     },
     "metadata": {
      "needs_background": "light"
     },
     "output_type": "display_data"
    }
   ],
   "source": [
    "sns.violinplot(x='fuel',y='mileage_',data=data)"
   ]
  },
  {
   "cell_type": "markdown",
   "id": "f80193aa",
   "metadata": {},
   "source": [
    "# Model Building"
   ]
  },
  {
   "cell_type": "code",
   "execution_count": 53,
   "id": "8b3a130a",
   "metadata": {},
   "outputs": [],
   "source": [
    "X = data1.loc[:, data1.columns!='selling_price']\n",
    "y = data1['selling_price']"
   ]
  },
  {
   "cell_type": "code",
   "execution_count": 54,
   "id": "8dea01f1",
   "metadata": {},
   "outputs": [
    {
     "name": "stdout",
     "output_type": "stream",
     "text": [
      "Train (5689, 17) (5689,)\n",
      "Test (2439, 17) (2439,)\n"
     ]
    }
   ],
   "source": [
    "# Break off validation set from training data\n",
    "from sklearn.model_selection import train_test_split\n",
    "X_train, X_test, y_train, y_test = train_test_split(X, y,test_size=0.3, random_state=42)\n",
    "# summarize\n",
    "print('Train', X_train.shape, y_train.shape)\n",
    "print('Test', X_test.shape, y_test.shape)\n"
   ]
  },
  {
   "cell_type": "code",
   "execution_count": 55,
   "id": "5c9f3381",
   "metadata": {},
   "outputs": [
    {
     "data": {
      "text/html": [
       "<div>\n",
       "<style scoped>\n",
       "    .dataframe tbody tr th:only-of-type {\n",
       "        vertical-align: middle;\n",
       "    }\n",
       "\n",
       "    .dataframe tbody tr th {\n",
       "        vertical-align: top;\n",
       "    }\n",
       "\n",
       "    .dataframe thead th {\n",
       "        text-align: right;\n",
       "    }\n",
       "</style>\n",
       "<table border=\"1\" class=\"dataframe\">\n",
       "  <thead>\n",
       "    <tr style=\"text-align: right;\">\n",
       "      <th></th>\n",
       "      <th>year</th>\n",
       "      <th>km_driven</th>\n",
       "      <th>torque</th>\n",
       "      <th>seats</th>\n",
       "      <th>mileage_</th>\n",
       "      <th>engine_</th>\n",
       "      <th>max_power_number</th>\n",
       "      <th>fuel_Diesel</th>\n",
       "      <th>fuel_LPG</th>\n",
       "      <th>fuel_Petrol</th>\n",
       "      <th>seller_type_Individual</th>\n",
       "      <th>seller_type_Trustmark Dealer</th>\n",
       "      <th>transmission_Manual</th>\n",
       "      <th>owner_Fourth &amp; Above Owner</th>\n",
       "      <th>owner_Second Owner</th>\n",
       "      <th>owner_Test Drive Car</th>\n",
       "      <th>owner_Third Owner</th>\n",
       "    </tr>\n",
       "  </thead>\n",
       "  <tbody>\n",
       "    <tr>\n",
       "      <th>6783</th>\n",
       "      <td>2006.0</td>\n",
       "      <td>120000</td>\n",
       "      <td>62.0</td>\n",
       "      <td>5.0</td>\n",
       "      <td>19.70</td>\n",
       "      <td>796.0</td>\n",
       "      <td>46.30</td>\n",
       "      <td>0</td>\n",
       "      <td>0</td>\n",
       "      <td>1</td>\n",
       "      <td>1</td>\n",
       "      <td>0</td>\n",
       "      <td>1</td>\n",
       "      <td>0</td>\n",
       "      <td>0</td>\n",
       "      <td>0</td>\n",
       "      <td>1</td>\n",
       "    </tr>\n",
       "    <tr>\n",
       "      <th>1073</th>\n",
       "      <td>2018.0</td>\n",
       "      <td>100000</td>\n",
       "      <td>344.5</td>\n",
       "      <td>7.0</td>\n",
       "      <td>12.90</td>\n",
       "      <td>2159.5</td>\n",
       "      <td>150.97</td>\n",
       "      <td>1</td>\n",
       "      <td>0</td>\n",
       "      <td>0</td>\n",
       "      <td>0</td>\n",
       "      <td>0</td>\n",
       "      <td>0</td>\n",
       "      <td>0</td>\n",
       "      <td>0</td>\n",
       "      <td>0</td>\n",
       "      <td>0</td>\n",
       "    </tr>\n",
       "    <tr>\n",
       "      <th>7756</th>\n",
       "      <td>2017.0</td>\n",
       "      <td>39000</td>\n",
       "      <td>344.5</td>\n",
       "      <td>5.0</td>\n",
       "      <td>19.59</td>\n",
       "      <td>1995.0</td>\n",
       "      <td>150.97</td>\n",
       "      <td>1</td>\n",
       "      <td>0</td>\n",
       "      <td>0</td>\n",
       "      <td>0</td>\n",
       "      <td>0</td>\n",
       "      <td>0</td>\n",
       "      <td>0</td>\n",
       "      <td>0</td>\n",
       "      <td>0</td>\n",
       "      <td>0</td>\n",
       "    </tr>\n",
       "    <tr>\n",
       "      <th>144</th>\n",
       "      <td>2013.0</td>\n",
       "      <td>39000</td>\n",
       "      <td>173.0</td>\n",
       "      <td>5.0</td>\n",
       "      <td>14.28</td>\n",
       "      <td>1798.0</td>\n",
       "      <td>138.03</td>\n",
       "      <td>0</td>\n",
       "      <td>0</td>\n",
       "      <td>1</td>\n",
       "      <td>0</td>\n",
       "      <td>0</td>\n",
       "      <td>0</td>\n",
       "      <td>0</td>\n",
       "      <td>0</td>\n",
       "      <td>0</td>\n",
       "      <td>0</td>\n",
       "    </tr>\n",
       "    <tr>\n",
       "      <th>6424</th>\n",
       "      <td>2013.0</td>\n",
       "      <td>70000</td>\n",
       "      <td>190.0</td>\n",
       "      <td>5.0</td>\n",
       "      <td>23.40</td>\n",
       "      <td>1248.0</td>\n",
       "      <td>74.00</td>\n",
       "      <td>1</td>\n",
       "      <td>0</td>\n",
       "      <td>0</td>\n",
       "      <td>1</td>\n",
       "      <td>0</td>\n",
       "      <td>1</td>\n",
       "      <td>0</td>\n",
       "      <td>1</td>\n",
       "      <td>0</td>\n",
       "      <td>0</td>\n",
       "    </tr>\n",
       "    <tr>\n",
       "      <th>...</th>\n",
       "      <td>...</td>\n",
       "      <td>...</td>\n",
       "      <td>...</td>\n",
       "      <td>...</td>\n",
       "      <td>...</td>\n",
       "      <td>...</td>\n",
       "      <td>...</td>\n",
       "      <td>...</td>\n",
       "      <td>...</td>\n",
       "      <td>...</td>\n",
       "      <td>...</td>\n",
       "      <td>...</td>\n",
       "      <td>...</td>\n",
       "      <td>...</td>\n",
       "      <td>...</td>\n",
       "      <td>...</td>\n",
       "      <td>...</td>\n",
       "    </tr>\n",
       "    <tr>\n",
       "      <th>5226</th>\n",
       "      <td>2009.0</td>\n",
       "      <td>120000</td>\n",
       "      <td>290.0</td>\n",
       "      <td>7.0</td>\n",
       "      <td>12.05</td>\n",
       "      <td>2159.5</td>\n",
       "      <td>120.00</td>\n",
       "      <td>1</td>\n",
       "      <td>0</td>\n",
       "      <td>0</td>\n",
       "      <td>1</td>\n",
       "      <td>0</td>\n",
       "      <td>1</td>\n",
       "      <td>0</td>\n",
       "      <td>0</td>\n",
       "      <td>0</td>\n",
       "      <td>0</td>\n",
       "    </tr>\n",
       "    <tr>\n",
       "      <th>5390</th>\n",
       "      <td>2014.0</td>\n",
       "      <td>80000</td>\n",
       "      <td>190.0</td>\n",
       "      <td>5.0</td>\n",
       "      <td>23.40</td>\n",
       "      <td>1248.0</td>\n",
       "      <td>74.00</td>\n",
       "      <td>1</td>\n",
       "      <td>0</td>\n",
       "      <td>0</td>\n",
       "      <td>1</td>\n",
       "      <td>0</td>\n",
       "      <td>1</td>\n",
       "      <td>0</td>\n",
       "      <td>1</td>\n",
       "      <td>0</td>\n",
       "      <td>0</td>\n",
       "    </tr>\n",
       "    <tr>\n",
       "      <th>860</th>\n",
       "      <td>2016.0</td>\n",
       "      <td>35000</td>\n",
       "      <td>114.0</td>\n",
       "      <td>5.0</td>\n",
       "      <td>18.60</td>\n",
       "      <td>1197.0</td>\n",
       "      <td>81.83</td>\n",
       "      <td>0</td>\n",
       "      <td>0</td>\n",
       "      <td>1</td>\n",
       "      <td>1</td>\n",
       "      <td>0</td>\n",
       "      <td>1</td>\n",
       "      <td>0</td>\n",
       "      <td>0</td>\n",
       "      <td>0</td>\n",
       "      <td>0</td>\n",
       "    </tr>\n",
       "    <tr>\n",
       "      <th>7603</th>\n",
       "      <td>2019.0</td>\n",
       "      <td>27000</td>\n",
       "      <td>190.0</td>\n",
       "      <td>5.0</td>\n",
       "      <td>28.40</td>\n",
       "      <td>1248.0</td>\n",
       "      <td>74.02</td>\n",
       "      <td>1</td>\n",
       "      <td>0</td>\n",
       "      <td>0</td>\n",
       "      <td>1</td>\n",
       "      <td>0</td>\n",
       "      <td>1</td>\n",
       "      <td>0</td>\n",
       "      <td>0</td>\n",
       "      <td>0</td>\n",
       "      <td>0</td>\n",
       "    </tr>\n",
       "    <tr>\n",
       "      <th>7270</th>\n",
       "      <td>2006.0</td>\n",
       "      <td>70000</td>\n",
       "      <td>59.0</td>\n",
       "      <td>4.0</td>\n",
       "      <td>16.10</td>\n",
       "      <td>796.0</td>\n",
       "      <td>37.00</td>\n",
       "      <td>0</td>\n",
       "      <td>0</td>\n",
       "      <td>1</td>\n",
       "      <td>1</td>\n",
       "      <td>0</td>\n",
       "      <td>1</td>\n",
       "      <td>0</td>\n",
       "      <td>1</td>\n",
       "      <td>0</td>\n",
       "      <td>0</td>\n",
       "    </tr>\n",
       "  </tbody>\n",
       "</table>\n",
       "<p>5689 rows × 17 columns</p>\n",
       "</div>"
      ],
      "text/plain": [
       "        year  km_driven  torque  seats  mileage_  engine_  max_power_number  \\\n",
       "6783  2006.0     120000    62.0    5.0     19.70    796.0             46.30   \n",
       "1073  2018.0     100000   344.5    7.0     12.90   2159.5            150.97   \n",
       "7756  2017.0      39000   344.5    5.0     19.59   1995.0            150.97   \n",
       "144   2013.0      39000   173.0    5.0     14.28   1798.0            138.03   \n",
       "6424  2013.0      70000   190.0    5.0     23.40   1248.0             74.00   \n",
       "...      ...        ...     ...    ...       ...      ...               ...   \n",
       "5226  2009.0     120000   290.0    7.0     12.05   2159.5            120.00   \n",
       "5390  2014.0      80000   190.0    5.0     23.40   1248.0             74.00   \n",
       "860   2016.0      35000   114.0    5.0     18.60   1197.0             81.83   \n",
       "7603  2019.0      27000   190.0    5.0     28.40   1248.0             74.02   \n",
       "7270  2006.0      70000    59.0    4.0     16.10    796.0             37.00   \n",
       "\n",
       "      fuel_Diesel  fuel_LPG  fuel_Petrol  seller_type_Individual  \\\n",
       "6783            0         0            1                       1   \n",
       "1073            1         0            0                       0   \n",
       "7756            1         0            0                       0   \n",
       "144             0         0            1                       0   \n",
       "6424            1         0            0                       1   \n",
       "...           ...       ...          ...                     ...   \n",
       "5226            1         0            0                       1   \n",
       "5390            1         0            0                       1   \n",
       "860             0         0            1                       1   \n",
       "7603            1         0            0                       1   \n",
       "7270            0         0            1                       1   \n",
       "\n",
       "      seller_type_Trustmark Dealer  transmission_Manual  \\\n",
       "6783                             0                    1   \n",
       "1073                             0                    0   \n",
       "7756                             0                    0   \n",
       "144                              0                    0   \n",
       "6424                             0                    1   \n",
       "...                            ...                  ...   \n",
       "5226                             0                    1   \n",
       "5390                             0                    1   \n",
       "860                              0                    1   \n",
       "7603                             0                    1   \n",
       "7270                             0                    1   \n",
       "\n",
       "      owner_Fourth & Above Owner  owner_Second Owner  owner_Test Drive Car  \\\n",
       "6783                           0                   0                     0   \n",
       "1073                           0                   0                     0   \n",
       "7756                           0                   0                     0   \n",
       "144                            0                   0                     0   \n",
       "6424                           0                   1                     0   \n",
       "...                          ...                 ...                   ...   \n",
       "5226                           0                   0                     0   \n",
       "5390                           0                   1                     0   \n",
       "860                            0                   0                     0   \n",
       "7603                           0                   0                     0   \n",
       "7270                           0                   1                     0   \n",
       "\n",
       "      owner_Third Owner  \n",
       "6783                  1  \n",
       "1073                  0  \n",
       "7756                  0  \n",
       "144                   0  \n",
       "6424                  0  \n",
       "...                 ...  \n",
       "5226                  0  \n",
       "5390                  0  \n",
       "860                   0  \n",
       "7603                  0  \n",
       "7270                  0  \n",
       "\n",
       "[5689 rows x 17 columns]"
      ]
     },
     "execution_count": 55,
     "metadata": {},
     "output_type": "execute_result"
    }
   ],
   "source": [
    "X_train"
   ]
  },
  {
   "cell_type": "code",
   "execution_count": 61,
   "id": "3754ed32",
   "metadata": {},
   "outputs": [
    {
     "data": {
      "text/plain": [
       "4446     850000.0\n",
       "2154     975000.0\n",
       "1344     360000.0\n",
       "7856     725000.0\n",
       "6107    1200000.0\n",
       "          ...    \n",
       "5226     475000.0\n",
       "5390     530000.0\n",
       "860      576000.0\n",
       "7603     770000.0\n",
       "7270     155000.0\n",
       "Name: selling_price, Length: 5445, dtype: float64"
      ]
     },
     "execution_count": 61,
     "metadata": {},
     "output_type": "execute_result"
    }
   ],
   "source": [
    "y_train"
   ]
  },
  {
   "cell_type": "code",
   "execution_count": 57,
   "id": "8d9187d1",
   "metadata": {},
   "outputs": [
    {
     "data": {
      "text/html": [
       "<div>\n",
       "<style scoped>\n",
       "    .dataframe tbody tr th:only-of-type {\n",
       "        vertical-align: middle;\n",
       "    }\n",
       "\n",
       "    .dataframe tbody tr th {\n",
       "        vertical-align: top;\n",
       "    }\n",
       "\n",
       "    .dataframe thead th {\n",
       "        text-align: right;\n",
       "    }\n",
       "</style>\n",
       "<table border=\"1\" class=\"dataframe\">\n",
       "  <thead>\n",
       "    <tr style=\"text-align: right;\">\n",
       "      <th></th>\n",
       "      <th>0</th>\n",
       "      <th>1</th>\n",
       "      <th>2</th>\n",
       "      <th>3</th>\n",
       "      <th>4</th>\n",
       "      <th>5</th>\n",
       "      <th>6</th>\n",
       "      <th>7</th>\n",
       "      <th>8</th>\n",
       "      <th>9</th>\n",
       "      <th>10</th>\n",
       "      <th>11</th>\n",
       "      <th>12</th>\n",
       "      <th>13</th>\n",
       "      <th>14</th>\n",
       "      <th>15</th>\n",
       "      <th>16</th>\n",
       "    </tr>\n",
       "  </thead>\n",
       "  <tbody>\n",
       "    <tr>\n",
       "      <th>count</th>\n",
       "      <td>8128.000000</td>\n",
       "      <td>8128.000000</td>\n",
       "      <td>8128.000000</td>\n",
       "      <td>8128.000000</td>\n",
       "      <td>8128.000000</td>\n",
       "      <td>8128.000000</td>\n",
       "      <td>8128.000000</td>\n",
       "      <td>8128.000000</td>\n",
       "      <td>8128.000000</td>\n",
       "      <td>8128.000000</td>\n",
       "      <td>8128.000000</td>\n",
       "      <td>8128.000000</td>\n",
       "      <td>8128.000000</td>\n",
       "      <td>8128.000000</td>\n",
       "      <td>8128.000000</td>\n",
       "      <td>8128.000000</td>\n",
       "      <td>8128.000000</td>\n",
       "    </tr>\n",
       "    <tr>\n",
       "      <th>mean</th>\n",
       "      <td>0.657754</td>\n",
       "      <td>0.354861</td>\n",
       "      <td>0.436359</td>\n",
       "      <td>0.284727</td>\n",
       "      <td>0.495365</td>\n",
       "      <td>0.516187</td>\n",
       "      <td>0.529666</td>\n",
       "      <td>0.541585</td>\n",
       "      <td>0.004675</td>\n",
       "      <td>0.446727</td>\n",
       "      <td>0.832431</td>\n",
       "      <td>0.029035</td>\n",
       "      <td>0.870817</td>\n",
       "      <td>0.021407</td>\n",
       "      <td>0.258981</td>\n",
       "      <td>0.000615</td>\n",
       "      <td>0.068282</td>\n",
       "    </tr>\n",
       "    <tr>\n",
       "      <th>std</th>\n",
       "      <td>0.217458</td>\n",
       "      <td>0.226334</td>\n",
       "      <td>0.257275</td>\n",
       "      <td>0.078871</td>\n",
       "      <td>0.178049</td>\n",
       "      <td>0.264511</td>\n",
       "      <td>0.215793</td>\n",
       "      <td>0.498298</td>\n",
       "      <td>0.068220</td>\n",
       "      <td>0.497185</td>\n",
       "      <td>0.373506</td>\n",
       "      <td>0.167916</td>\n",
       "      <td>0.335423</td>\n",
       "      <td>0.144747</td>\n",
       "      <td>0.438102</td>\n",
       "      <td>0.024796</td>\n",
       "      <td>0.252246</td>\n",
       "    </tr>\n",
       "    <tr>\n",
       "      <th>min</th>\n",
       "      <td>0.000000</td>\n",
       "      <td>0.000000</td>\n",
       "      <td>0.000000</td>\n",
       "      <td>0.000000</td>\n",
       "      <td>0.000000</td>\n",
       "      <td>0.000000</td>\n",
       "      <td>0.000000</td>\n",
       "      <td>0.000000</td>\n",
       "      <td>0.000000</td>\n",
       "      <td>0.000000</td>\n",
       "      <td>0.000000</td>\n",
       "      <td>0.000000</td>\n",
       "      <td>0.000000</td>\n",
       "      <td>0.000000</td>\n",
       "      <td>0.000000</td>\n",
       "      <td>0.000000</td>\n",
       "      <td>0.000000</td>\n",
       "    </tr>\n",
       "    <tr>\n",
       "      <th>25%</th>\n",
       "      <td>0.500000</td>\n",
       "      <td>0.181814</td>\n",
       "      <td>0.238454</td>\n",
       "      <td>0.250000</td>\n",
       "      <td>0.375171</td>\n",
       "      <td>0.373168</td>\n",
       "      <td>0.375038</td>\n",
       "      <td>0.000000</td>\n",
       "      <td>0.000000</td>\n",
       "      <td>0.000000</td>\n",
       "      <td>1.000000</td>\n",
       "      <td>0.000000</td>\n",
       "      <td>1.000000</td>\n",
       "      <td>0.000000</td>\n",
       "      <td>0.000000</td>\n",
       "      <td>0.000000</td>\n",
       "      <td>0.000000</td>\n",
       "    </tr>\n",
       "    <tr>\n",
       "      <th>50%</th>\n",
       "      <td>0.722222</td>\n",
       "      <td>0.311685</td>\n",
       "      <td>0.395676</td>\n",
       "      <td>0.250000</td>\n",
       "      <td>0.494696</td>\n",
       "      <td>0.406382</td>\n",
       "      <td>0.478808</td>\n",
       "      <td>1.000000</td>\n",
       "      <td>0.000000</td>\n",
       "      <td>0.000000</td>\n",
       "      <td>1.000000</td>\n",
       "      <td>0.000000</td>\n",
       "      <td>1.000000</td>\n",
       "      <td>0.000000</td>\n",
       "      <td>0.000000</td>\n",
       "      <td>0.000000</td>\n",
       "      <td>0.000000</td>\n",
       "    </tr>\n",
       "    <tr>\n",
       "      <th>75%</th>\n",
       "      <td>0.833333</td>\n",
       "      <td>0.509088</td>\n",
       "      <td>0.543072</td>\n",
       "      <td>0.250000</td>\n",
       "      <td>0.625171</td>\n",
       "      <td>0.623901</td>\n",
       "      <td>0.625038</td>\n",
       "      <td>1.000000</td>\n",
       "      <td>0.000000</td>\n",
       "      <td>1.000000</td>\n",
       "      <td>1.000000</td>\n",
       "      <td>0.000000</td>\n",
       "      <td>1.000000</td>\n",
       "      <td>0.000000</td>\n",
       "      <td>1.000000</td>\n",
       "      <td>0.000000</td>\n",
       "      <td>0.000000</td>\n",
       "    </tr>\n",
       "    <tr>\n",
       "      <th>max</th>\n",
       "      <td>1.000000</td>\n",
       "      <td>1.000000</td>\n",
       "      <td>1.000000</td>\n",
       "      <td>1.000000</td>\n",
       "      <td>1.000000</td>\n",
       "      <td>1.000000</td>\n",
       "      <td>1.000000</td>\n",
       "      <td>1.000000</td>\n",
       "      <td>1.000000</td>\n",
       "      <td>1.000000</td>\n",
       "      <td>1.000000</td>\n",
       "      <td>1.000000</td>\n",
       "      <td>1.000000</td>\n",
       "      <td>1.000000</td>\n",
       "      <td>1.000000</td>\n",
       "      <td>1.000000</td>\n",
       "      <td>1.000000</td>\n",
       "    </tr>\n",
       "  </tbody>\n",
       "</table>\n",
       "</div>"
      ],
      "text/plain": [
       "                0            1            2            3            4   \\\n",
       "count  8128.000000  8128.000000  8128.000000  8128.000000  8128.000000   \n",
       "mean      0.657754     0.354861     0.436359     0.284727     0.495365   \n",
       "std       0.217458     0.226334     0.257275     0.078871     0.178049   \n",
       "min       0.000000     0.000000     0.000000     0.000000     0.000000   \n",
       "25%       0.500000     0.181814     0.238454     0.250000     0.375171   \n",
       "50%       0.722222     0.311685     0.395676     0.250000     0.494696   \n",
       "75%       0.833333     0.509088     0.543072     0.250000     0.625171   \n",
       "max       1.000000     1.000000     1.000000     1.000000     1.000000   \n",
       "\n",
       "                5            6            7            8            9   \\\n",
       "count  8128.000000  8128.000000  8128.000000  8128.000000  8128.000000   \n",
       "mean      0.516187     0.529666     0.541585     0.004675     0.446727   \n",
       "std       0.264511     0.215793     0.498298     0.068220     0.497185   \n",
       "min       0.000000     0.000000     0.000000     0.000000     0.000000   \n",
       "25%       0.373168     0.375038     0.000000     0.000000     0.000000   \n",
       "50%       0.406382     0.478808     1.000000     0.000000     0.000000   \n",
       "75%       0.623901     0.625038     1.000000     0.000000     1.000000   \n",
       "max       1.000000     1.000000     1.000000     1.000000     1.000000   \n",
       "\n",
       "                10           11           12           13           14  \\\n",
       "count  8128.000000  8128.000000  8128.000000  8128.000000  8128.000000   \n",
       "mean      0.832431     0.029035     0.870817     0.021407     0.258981   \n",
       "std       0.373506     0.167916     0.335423     0.144747     0.438102   \n",
       "min       0.000000     0.000000     0.000000     0.000000     0.000000   \n",
       "25%       1.000000     0.000000     1.000000     0.000000     0.000000   \n",
       "50%       1.000000     0.000000     1.000000     0.000000     0.000000   \n",
       "75%       1.000000     0.000000     1.000000     0.000000     1.000000   \n",
       "max       1.000000     1.000000     1.000000     1.000000     1.000000   \n",
       "\n",
       "                15           16  \n",
       "count  8128.000000  8128.000000  \n",
       "mean      0.000615     0.068282  \n",
       "std       0.024796     0.252246  \n",
       "min       0.000000     0.000000  \n",
       "25%       0.000000     0.000000  \n",
       "50%       0.000000     0.000000  \n",
       "75%       0.000000     0.000000  \n",
       "max       1.000000     1.000000  "
      ]
     },
     "execution_count": 57,
     "metadata": {},
     "output_type": "execute_result"
    }
   ],
   "source": [
    "# Min Max scalar\n",
    "from sklearn import preprocessing\n",
    "min_max = preprocessing.MinMaxScaler(feature_range=(0,1))\n",
    "x=min_max.fit_transform(X)\n",
    "x=pd.DataFrame(x)\n",
    "x.describe()"
   ]
  },
  {
   "cell_type": "code",
   "execution_count": 58,
   "id": "bee4cba1",
   "metadata": {},
   "outputs": [],
   "source": [
    "# Splitting data\n",
    "from sklearn.model_selection import train_test_split\n",
    "x_train,x_test,y_train,y_test = train_test_split(x,y,test_size = 0.33,random_state = 42)"
   ]
  },
  {
   "cell_type": "code",
   "execution_count": 63,
   "id": "b0497cab",
   "metadata": {},
   "outputs": [],
   "source": [
    " from sklearn.linear_model import LinearRegression"
   ]
  },
  {
   "cell_type": "code",
   "execution_count": 64,
   "id": "a3514682",
   "metadata": {},
   "outputs": [],
   "source": [
    "reg = LinearRegression().fit(x_train, y_train)"
   ]
  },
  {
   "cell_type": "code",
   "execution_count": 65,
   "id": "8f7e5274",
   "metadata": {},
   "outputs": [
    {
     "data": {
      "text/plain": [
       "array([ 609851.0077563 , -168812.83652822,  179841.68623479,\n",
       "         29404.42049348,  -28494.75117729,  140028.75511318,\n",
       "        479007.95269395,   48962.9552205 ,   74115.85849433,\n",
       "         -6365.16652243,  -34627.21625673,   21465.60546728,\n",
       "       -146023.28077047,  -14737.70245738,  -34382.38029716,\n",
       "        233690.52299324,  -31463.97169192])"
      ]
     },
     "execution_count": 65,
     "metadata": {},
     "output_type": "execute_result"
    }
   ],
   "source": [
    "reg.coef_"
   ]
  },
  {
   "cell_type": "code",
   "execution_count": 66,
   "id": "70ed4655",
   "metadata": {},
   "outputs": [
    {
     "data": {
      "text/plain": [
       "-81918.652024752"
      ]
     },
     "execution_count": 66,
     "metadata": {},
     "output_type": "execute_result"
    }
   ],
   "source": [
    "reg.intercept_"
   ]
  },
  {
   "cell_type": "code",
   "execution_count": 69,
   "id": "0bc12493",
   "metadata": {},
   "outputs": [],
   "source": [
    "y_pred=reg.predict(x_test)"
   ]
  },
  {
   "cell_type": "code",
   "execution_count": 70,
   "id": "531e51f7",
   "metadata": {},
   "outputs": [],
   "source": []
  },
  {
   "cell_type": "code",
   "execution_count": 74,
   "id": "e9ea63ff",
   "metadata": {},
   "outputs": [
    {
     "name": "stdout",
     "output_type": "stream",
     "text": [
      "80.28314620325412 %\n"
     ]
    }
   ],
   "source": [
    "r2_score = reg.score(x_test,y_test)\n",
    "print(r2_score*100,'%')\n"
   ]
  },
  {
   "cell_type": "code",
   "execution_count": null,
   "id": "97db3ad7",
   "metadata": {},
   "outputs": [],
   "source": []
  }
 ],
 "metadata": {
  "kernelspec": {
   "display_name": "Python 3 (ipykernel)",
   "language": "python",
   "name": "python3"
  },
  "language_info": {
   "codemirror_mode": {
    "name": "ipython",
    "version": 3
   },
   "file_extension": ".py",
   "mimetype": "text/x-python",
   "name": "python",
   "nbconvert_exporter": "python",
   "pygments_lexer": "ipython3",
   "version": "3.7.13"
  }
 },
 "nbformat": 4,
 "nbformat_minor": 5
}
